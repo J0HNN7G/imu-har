{
 "cells": [
  {
   "cell_type": "code",
   "execution_count": null,
   "metadata": {},
   "outputs": [],
   "source": [
    "import os\n",
    "import numpy as np\n",
    "import tensorflow as tf\n",
    "\n",
    "from ml.config.train import default_cfg\n",
    "from ml.config.train import cfg as cfg_train\n",
    "from ml.config.test import cfg as cfg_test\n",
    "from ml.dataset import odgt2train, odgt2test\n",
    "from ml.models import TASK_MODEL_DICT, ModelBuilder, OptimizerBuilder, BestModelCallback\n",
    "\n",
    "from sklearn.metrics import classification_report\n",
    "\n",
    "print(\"All packages imported!\")"
   ]
  },
  {
   "cell_type": "markdown",
   "metadata": {},
   "source": [
    "## Training"
   ]
  },
  {
   "cell_type": "markdown",
   "metadata": {},
   "source": [
    "### Config"
   ]
  },
  {
   "cell_type": "code",
   "execution_count": null,
   "metadata": {},
   "outputs": [],
   "source": [
    "task = 1\n",
    "part = 'dynamic'\n",
    "\n",
    "# fill in your directory set up here\n",
    "config_fp = f'/home/jonathan/git/pdiot-ml/config/train/task_{task}/{part}.yaml'\n",
    "cfg_train.merge_from_file(config_fp)\n",
    "cfg_train.DATASET.path = '/home/jonathan/git/pdiot-ml/data/sets/pdiot-data/'\n",
    "cfg_train.DATASET.LIST.train = f'train_{part}_pdiot-data.odgt' \n",
    "cfg_train.DATASET.LIST.val = f'val_{part}_pdiot-data.odgt'\n",
    "print(cfg_train)"
   ]
  },
  {
   "cell_type": "markdown",
   "metadata": {},
   "source": [
    "### Data"
   ]
  },
  {
   "cell_type": "code",
   "execution_count": null,
   "metadata": {},
   "outputs": [],
   "source": [
    "train_odgt_fp = os.path.join(cfg_train.DATASET.path, cfg_train.DATASET.LIST.train)\n",
    "val_odgt_fp = os.path.join(cfg_train.DATASET.path, cfg_train.DATASET.LIST.val)\n",
    "\n",
    "train_X, train_y = odgt2train(train_odgt_fp, cfg_train.MODEL.INPUT.window_size, \n",
    "                                            cfg_train.TRAIN.DATA.overlap_size)\n",
    "val_X, val_y = odgt2train(val_odgt_fp, cfg_train.MODEL.INPUT.window_size, \n",
    "                                      cfg_train.TRAIN.DATA.overlap_size)"
   ]
  },
  {
   "cell_type": "markdown",
   "metadata": {},
   "source": [
    "### Optimization"
   ]
  },
  {
   "cell_type": "code",
   "execution_count": null,
   "metadata": {},
   "outputs": [],
   "source": [
    "model = ModelBuilder.build_classifier(cfg_train.MODEL, '', cfg_train.DATASET.num_classes)\n",
    "optimizer = OptimizerBuilder.build_optimizer(cfg_train.TRAIN.OPTIM)\n",
    "loss = tf.keras.losses.SparseCategoricalCrossentropy()\n",
    "metrics = [\n",
    "    tf.keras.metrics.SparseCategoricalAccuracy(name='acc'),\n",
    "]\n",
    "early_stop_callback = tf.keras.callbacks.EarlyStopping(monitor='val_acc', patience=cfg_train.TRAIN.LEN.early_stop)\n",
    "best_model_callback = BestModelCallback(model)\n",
    "\n",
    "model.compile(optimizer=optimizer, loss=loss, metrics=metrics)\n",
    "history = model.fit(train_X, train_y, \n",
    "                    validation_data=(val_X, val_y), \n",
    "                    epochs=cfg_train.TRAIN.LEN.num_epoch, \n",
    "                    batch_size=cfg_train.TRAIN.DATA.batch_size,\n",
    "                    callbacks=[early_stop_callback, best_model_callback])"
   ]
  },
  {
   "cell_type": "markdown",
   "metadata": {},
   "source": [
    "### Evaluation"
   ]
  },
  {
   "cell_type": "code",
   "execution_count": null,
   "metadata": {},
   "outputs": [],
   "source": [
    "val_pred = np.argmax(model(val_X), axis=1)\n",
    "print(classification_report(val_pred, val_y))"
   ]
  },
  {
   "cell_type": "markdown",
   "metadata": {},
   "source": [
    "## Testing"
   ]
  },
  {
   "cell_type": "markdown",
   "metadata": {},
   "source": [
    "### Config"
   ]
  },
  {
   "cell_type": "code",
   "execution_count": null,
   "metadata": {},
   "outputs": [],
   "source": [
    "task = 1\n",
    "subject = 0\n",
    "\n",
    "# fill in your directory set up here\n",
    "project_dp = '/home/jonathan/git/pdiot-ml/'\n",
    "config_fp = os.path.join(project_dp, f'config/test/task_{task}.yaml')\n",
    "cfg_test.merge_from_file(config_fp)\n",
    "cfg_test.TEST.subject = subject\n",
    "cfg_test.DATASET.path = '/home/jonathan/git/pdiot-ml/data/sets/pdiot-data/'\n",
    "cfg_test.TEST.path = f'/home/jonathan/git/pdiot-ml/ckpt/test/task_{task}'   \n",
    "print(cfg_test)"
   ]
  },
  {
   "cell_type": "markdown",
   "metadata": {},
   "source": [
    "### Data"
   ]
  },
  {
   "cell_type": "code",
   "execution_count": null,
   "metadata": {},
   "outputs": [],
   "source": [
    "test_odgt_fp = os.path.join(cfg_test.DATASET.path, cfg_test.DATASET.odgt.format(cfg_test.DATASET.task))\n",
    "test_dict = odgt2test(test_odgt_fp, cfg_test.DATASET.task,\n",
    "                                    cfg_test.TEST.subject, \n",
    "                                    cfg_test.MODEL.INPUT.window_size, \n",
    "                                    cfg_test.TEST.DATA.overlap_size)"
   ]
  },
  {
   "cell_type": "markdown",
   "metadata": {},
   "source": [
    "### Optimization"
   ]
  },
  {
   "cell_type": "code",
   "execution_count": null,
   "metadata": {},
   "outputs": [],
   "source": [
    "components = TASK_MODEL_DICT[cfg_test.DATASET.task]\n",
    "model_dict = {}\n",
    "for component in components:\n",
    "    print(component)\n",
    "    component_cfg_fp = os.path.join(project_dp, cfg_test.MODEL.CONFIG[component])\n",
    "    cfg_train = default_cfg()\n",
    "    cfg_train.merge_from_file(component_cfg_fp)\n",
    "\n",
    "    model = ModelBuilder.build_classifier(cfg_train.MODEL, '', cfg_train.DATASET.num_classes)\n",
    "    optimizer = OptimizerBuilder.build_optimizer(cfg_train.TRAIN.OPTIM)\n",
    "    loss = tf.keras.losses.SparseCategoricalCrossentropy()\n",
    "    metrics = [\n",
    "        tf.keras.metrics.SparseCategoricalAccuracy(name='acc'),\n",
    "    ]\n",
    "\n",
    "    early_stop_callback = tf.keras.callbacks.EarlyStopping(monitor='val_acc', patience=cfg_train.TRAIN.LEN.early_stop)\n",
    "\n",
    "    valid_idx = test_dict['train'][component] != -1\n",
    "    train_X = test_dict['train']['X'][valid_idx]\n",
    "    train_y = test_dict['train'][component][valid_idx]\n",
    "\n",
    "    valid_idx = test_dict['val'][component] != -1\n",
    "    val_X = test_dict['val']['X'][valid_idx]\n",
    "    val_y = test_dict['val'][component][valid_idx]\n",
    "\n",
    "    model.compile(optimizer=optimizer, loss=loss, metrics=metrics)\n",
    "    history = model.fit(train_X, train_y, \n",
    "                        validation_data=(val_X, val_y),\n",
    "                        epochs=cfg_train.TRAIN.LEN.num_epoch, \n",
    "                        batch_size=cfg_test.TEST.DATA.batch_size,\n",
    "                        callbacks=[early_stop_callback])\n",
    "    \n",
    "    model_dict[component] = model"
   ]
  },
  {
   "cell_type": "markdown",
   "metadata": {},
   "source": [
    "### Evaluation"
   ]
  },
  {
   "cell_type": "code",
   "execution_count": null,
   "metadata": {},
   "outputs": [],
   "source": [
    "model = ModelBuilder.build_hierarchical_classifier(cfg_test.DATASET.task, model_dict)\n",
    "\n",
    "pred = model(test_dict['val']['X'])\n",
    "\n",
    "report = classification_report(test_dict['val']['y'], pred)\n",
    "\n",
    "print(f'Task {cfg_test.DATASET.task} - Subject {cfg_test.TEST.subject}') \n",
    "print(report)"
   ]
  }
 ],
 "metadata": {
  "kernelspec": {
   "display_name": "pdiot",
   "language": "python",
   "name": "python3"
  },
  "language_info": {
   "codemirror_mode": {
    "name": "ipython",
    "version": 3
   },
   "file_extension": ".py",
   "mimetype": "text/x-python",
   "name": "python",
   "nbconvert_exporter": "python",
   "pygments_lexer": "ipython3",
   "version": "3.10.13"
  }
 },
 "nbformat": 4,
 "nbformat_minor": 2
}

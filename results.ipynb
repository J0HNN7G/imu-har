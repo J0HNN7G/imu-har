{
 "cells": [
  {
   "cell_type": "code",
   "execution_count": 1,
   "metadata": {},
   "outputs": [
    {
     "name": "stdout",
     "output_type": "stream",
     "text": [
      "All packages imported!\n"
     ]
    }
   ],
   "source": [
    "# data\n",
    "import os\n",
    "from glob import glob\n",
    "import numpy as np\n",
    "import pandas as pd\n",
    "\n",
    "# visual\n",
    "import matplotlib.pyplot as plt\n",
    "import seaborn as sns\n",
    "\n",
    "# metrics\n",
    "from sklearn.metrics import classification_report, confusion_matrix\n",
    "\n",
    "print('All packages imported!')"
   ]
  },
  {
   "cell_type": "markdown",
   "metadata": {},
   "source": [
    "## Task 1"
   ]
  },
  {
   "cell_type": "code",
   "execution_count": 2,
   "metadata": {},
   "outputs": [],
   "source": [
    "def load_task_df(task_number):\n",
    "    if task_number not in range(1, 5):\n",
    "        raise ValueError(\"Invalid task number. Please provide a task number between 1 and 4.\")\n",
    "\n",
    "    task_fps = glob(f'ckpt/test/task_{task_number}_*/result.csv')\n",
    "    dfs = []\n",
    "\n",
    "    for fp in task_fps:\n",
    "        subject = fp.split('/')[-2].split('_')[-1]\n",
    "        df = pd.read_csv(fp)\n",
    "        df['subject'] = subject\n",
    "        dfs.append(df)\n",
    "\n",
    "    return pd.concat(dfs, ignore_index=True)\n",
    "\n",
    "\n",
    "def loo_accuracy(df):\n",
    "    acc_df = df.groupby(['subject'])[['pred', 'true']].apply(lambda x: (x['pred'] == x['true']).mean()).reset_index()\n",
    "    acc_df.columns = ['subject', 'accuracy']\n",
    "    return acc_df\n",
    "\n",
    "\n",
    "def filter_outliers(df, acc_df):\n",
    "    Q1 = acc_df['accuracy'].quantile(0.25)\n",
    "    Q3 = acc_df['accuracy'].quantile(0.75)\n",
    "    IQR = Q3 - Q1\n",
    "    lower_bound = Q1 - 1.5 * IQR\n",
    "\n",
    "    filtered_subjects = acc_df[(acc_df['accuracy'] >= lower_bound)]['subject']\n",
    "    removed_subjects = acc_df[~acc_df['subject'].isin(filtered_subjects)]['subject']\n",
    "\n",
    "    print(f\"Removed subjects: {', '.join(removed_subjects)}\")\n",
    "\n",
    "    return df[df['subject'].isin(filtered_subjects)]\n",
    "\n",
    "\n",
    "def plot_acc_hist(df, lower_bound=0.60):\n",
    "    acc_df = df.groupby(['subject'])[['pred', 'true']].apply(lambda x: (x['pred'] == x['true']).mean()).reset_index()\n",
    "    acc_df.columns = ['subject', 'accuracy']\n",
    "\n",
    "    fig, ax = plt.subplots(figsize=(10, 5))\n",
    "\n",
    "    bins = np.arange(lower_bound, 1.05, 0.025)\n",
    "    n, bins, patches = ax.hist(acc_df['accuracy'], bins=bins, color='skyblue', edgecolor='black')\n",
    "    ax.set_xlim([lower_bound, 1])\n",
    "    ax.set_ylim([0, max(n) + 1])\n",
    "\n",
    "    ax.set_xlabel('LOO Accuracy')\n",
    "    ax.set_ylabel('Frequency')\n",
    "\n",
    "    plt.show()"
   ]
  },
  {
   "cell_type": "markdown",
   "metadata": {},
   "source": [
    "### Data"
   ]
  },
  {
   "cell_type": "code",
   "execution_count": 11,
   "metadata": {},
   "outputs": [
    {
     "name": "stdout",
     "output_type": "stream",
     "text": [
      "Removed subjects: 59, 62\n"
     ]
    }
   ],
   "source": [
    "task_1_df = load_task_df(4)\n",
    "task_1_acc_df = loo_accuracy(task_1_df)\n",
    "task_1_clean_df = filter_outliers(task_1_df, task_1_acc_df)"
   ]
  },
  {
   "cell_type": "markdown",
   "metadata": {},
   "source": [
    "### Results"
   ]
  },
  {
   "cell_type": "code",
   "execution_count": 12,
   "metadata": {},
   "outputs": [
    {
     "data": {
      "image/png": "[encoded data removed]",
      "text/plain": [
       "<Figure size 1000x500 with 1 Axes>"
      ]
     },
     "metadata": {},
     "output_type": "display_data"
    }
   ],
   "source": [
    "plot_acc_hist(task_1_df, lower_bound=0.40)"
   ]
  },
  {
   "cell_type": "code",
   "execution_count": null,
   "metadata": {},
   "outputs": [],
   "source": []
  }
 ],
 "metadata": {
  "kernelspec": {
   "display_name": "pdiot",
   "language": "python",
   "name": "python3"
  },
  "language_info": {
   "codemirror_mode": {
    "name": "ipython",
    "version": 3
   },
   "file_extension": ".py",
   "mimetype": "text/x-python",
   "name": "python",
   "nbconvert_exporter": "python",
   "pygments_lexer": "ipython3",
   "version": "3.10.13"
  }
 },
 "nbformat": 4,
 "nbformat_minor": 2
}

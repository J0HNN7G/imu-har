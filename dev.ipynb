{
 "cells": [
  {
   "cell_type": "markdown",
   "metadata": {},
   "source": [
    "# PDIoT Group A1 model"
   ]
  },
  {
   "cell_type": "markdown",
   "metadata": {},
   "source": [
    "### Imports"
   ]
  },
  {
   "cell_type": "code",
   "execution_count": 1,
   "metadata": {},
   "outputs": [
    {
     "name": "stderr",
     "output_type": "stream",
     "text": [
      "2023-11-08 20:23:10.556603: I tensorflow/core/platform/cpu_feature_guard.cc:193] This TensorFlow binary is optimized with oneAPI Deep Neural Network Library (oneDNN) to use the following CPU instructions in performance-critical operations:  SSE4.1 SSE4.2 AVX AVX2 FMA\n",
      "To enable them in other operations, rebuild TensorFlow with the appropriate compiler flags.\n"
     ]
    },
    {
     "name": "stdout",
     "output_type": "stream",
     "text": [
      "All packages imported!\n",
      "Random seed set\n"
     ]
    }
   ],
   "source": [
    "import os\n",
    "import numpy as np\n",
    "\n",
    "# ml\n",
    "import tensorflow as tf\n",
    "\n",
    "# data\n",
    "from ml.config import cfg\n",
    "from ml.dataset import odgt2data\n",
    "from ml.models import ModelBuilder, OptimizerBuilder\n",
    "\n",
    "# logging\n",
    "from tqdm import tqdm\n",
    "\n",
    "print(\"All packages imported!\")\n",
    "\n",
    "\n",
    "SEED = 42\n",
    "np.random.seed(SEED)\n",
    "tf.random.set_seed(SEED)\n",
    "\n",
    "print(\"Random seed set\")"
   ]
  },
  {
   "cell_type": "markdown",
   "metadata": {},
   "source": [
    "### Config"
   ]
  },
  {
   "cell_type": "code",
   "execution_count": 2,
   "metadata": {},
   "outputs": [],
   "source": [
    "config_fp = '/home/jonathan/git/pdiot-ml/cfg/log-motion.yaml'\n",
    "cfg.merge_from_file(config_fp)\n",
    "cfg.DATASET.path = '/home/jonathan/git/pdiot-ml/data/sets/pdiot-data/'\n",
    "cfg.TRAIN.path = '/home/jonathan/git/pdiot-ml/ckpt/log-motion/'    "
   ]
  },
  {
   "cell_type": "markdown",
   "metadata": {},
   "source": [
    "### Data"
   ]
  },
  {
   "cell_type": "code",
   "execution_count": 3,
   "metadata": {},
   "outputs": [],
   "source": [
    "train_odgt_fp = os.path.join(cfg.DATASET.path, cfg.DATASET.LIST.train)\n",
    "val_odgt_fp = os.path.join(cfg.DATASET.path, cfg.DATASET.LIST.val)\n",
    "\n",
    "train_X, train_y = odgt2data(train_odgt_fp, cfg.MODEL.INPUT.window_size, cfg.TRAIN.DATA.overlap_size, cfg.DATASET.num_classes)\n",
    "val_X, val_y = odgt2data(val_odgt_fp, cfg.MODEL.INPUT.window_size, cfg.TRAIN.DATA.overlap_size, cfg.DATASET.num_classes)"
   ]
  },
  {
   "cell_type": "markdown",
   "metadata": {},
   "source": [
    "### Model"
   ]
  },
  {
   "cell_type": "code",
   "execution_count": 5,
   "metadata": {},
   "outputs": [
    {
     "name": "stdout",
     "output_type": "stream",
     "text": [
      "Epoch 1/100\n",
      "177/177 [==============================] - 1s 6ms/step - loss: 2.9694 - accuracy: 0.5081 - val_loss: 3.1789 - val_accuracy: 0.4834\n",
      "Epoch 2/100\n",
      "177/177 [==============================] - 1s 6ms/step - loss: 2.9777 - accuracy: 0.5110 - val_loss: 3.1789 - val_accuracy: 0.4834\n",
      "Epoch 3/100\n",
      "177/177 [==============================] - 1s 5ms/step - loss: 2.9777 - accuracy: 0.5110 - val_loss: 3.1789 - val_accuracy: 0.4834\n",
      "Epoch 4/100\n",
      "177/177 [==============================] - 1s 5ms/step - loss: 2.9777 - accuracy: 0.5110 - val_loss: 3.1789 - val_accuracy: 0.4834\n",
      "Epoch 5/100\n",
      "177/177 [==============================] - 1s 5ms/step - loss: 2.9777 - accuracy: 0.5110 - val_loss: 3.1789 - val_accuracy: 0.4834\n",
      "Epoch 6/100\n",
      "177/177 [==============================] - 1s 4ms/step - loss: 2.9777 - accuracy: 0.5110 - val_loss: 3.1789 - val_accuracy: 0.4834\n",
      "Epoch 7/100\n",
      "177/177 [==============================] - 1s 4ms/step - loss: 2.9777 - accuracy: 0.5110 - val_loss: 3.1789 - val_accuracy: 0.4834\n",
      "Epoch 8/100\n",
      "177/177 [==============================] - 1s 4ms/step - loss: 2.9777 - accuracy: 0.5110 - val_loss: 3.1789 - val_accuracy: 0.4834\n",
      "Epoch 9/100\n",
      "177/177 [==============================] - 1s 4ms/step - loss: 2.9777 - accuracy: 0.5110 - val_loss: 3.1789 - val_accuracy: 0.4834\n",
      "Epoch 10/100\n",
      "177/177 [==============================] - 1s 5ms/step - loss: 2.9777 - accuracy: 0.5110 - val_loss: 3.1789 - val_accuracy: 0.4834\n",
      "Epoch 11/100\n",
      "177/177 [==============================] - 1s 4ms/step - loss: 2.9777 - accuracy: 0.5110 - val_loss: 3.1789 - val_accuracy: 0.4834\n"
     ]
    },
    {
     "data": {
      "text/plain": [
       "<keras.callbacks.History at 0x7f3d291984c0>"
      ]
     },
     "execution_count": 5,
     "metadata": {},
     "output_type": "execute_result"
    }
   ],
   "source": [
    "model = ModelBuilder.build_classifier(cfg.MODEL, '', num_classes=2)\n",
    "optimizer = OptimizerBuilder.build_optimizer(cfg.TRAIN)\n",
    "loss = tf.keras.losses.BinaryCrossentropy(from_logits=True)\n",
    "callback = tf.keras.callbacks.EarlyStopping(monitor='loss', patience=cfg.TRAIN.LEN.early_stop)\n",
    "\n",
    "model.compile(optimizer=optimizer, loss=loss, metrics=['accuracy'])\n",
    "model.fit(train_X, train_y, validation_data=(val_X, val_y), \n",
    "          epochs=cfg.TRAIN.LEN.num_epoch, \n",
    "          batch_size=cfg.TRAIN.DATA.batch_size, \n",
    "          initial_epoch=cfg.TRAIN.LEN.start_epoch,\n",
    "          workers=cfg.TRAIN.DATA.num_workers,\n",
    "          callbacks=[callback]\n",
    ")"
   ]
  },
  {
   "cell_type": "code",
   "execution_count": null,
   "metadata": {},
   "outputs": [],
   "source": []
  }
 ],
 "metadata": {
  "kernelspec": {
   "display_name": "pdiot",
   "language": "python",
   "name": "python3"
  },
  "language_info": {
   "codemirror_mode": {
    "name": "ipython",
    "version": 3
   },
   "file_extension": ".py",
   "mimetype": "text/x-python",
   "name": "python",
   "nbconvert_exporter": "python",
   "pygments_lexer": "ipython3",
   "version": "3.10.13"
  }
 },
 "nbformat": 4,
 "nbformat_minor": 2
}

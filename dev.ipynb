{
 "cells": [
  {
   "cell_type": "markdown",
   "metadata": {},
   "source": [
    "# PDIoT Group A1 model"
   ]
  },
  {
   "cell_type": "markdown",
   "metadata": {},
   "source": [
    "### Imports"
   ]
  },
  {
   "cell_type": "code",
   "execution_count": 1,
   "metadata": {},
   "outputs": [
    {
     "name": "stderr",
     "output_type": "stream",
     "text": [
      "2023-11-10 00:57:44.373686: I tensorflow/core/platform/cpu_feature_guard.cc:193] This TensorFlow binary is optimized with oneAPI Deep Neural Network Library (oneDNN) to use the following CPU instructions in performance-critical operations:  SSE4.1 SSE4.2 AVX AVX2 FMA\n",
      "To enable them in other operations, rebuild TensorFlow with the appropriate compiler flags.\n"
     ]
    },
    {
     "name": "stdout",
     "output_type": "stream",
     "text": [
      "All packages imported!\n"
     ]
    }
   ],
   "source": [
    "import os\n",
    "import numpy as np\n",
    "import tensorflow as tf\n",
    "\n",
    "from ml.config import cfg\n",
    "from ml.dataset import odgt2data\n",
    "from ml.models import ModelBuilder, OptimizerBuilder, LRScheduleBuilder\n",
    "\n",
    "print(\"All packages imported!\")"
   ]
  },
  {
   "cell_type": "markdown",
   "metadata": {},
   "source": [
    "### Config"
   ]
  },
  {
   "cell_type": "code",
   "execution_count": 2,
   "metadata": {},
   "outputs": [
    {
     "name": "stdout",
     "output_type": "stream",
     "text": [
      "DATASET:\n",
      "  LIST:\n",
      "    test: test_motion_pdiot-data.odgt\n",
      "    train: train_motion_pdiot-data.odgt\n",
      "    val: val_motion_pdiot-data.odgt\n",
      "  num_classes: 2\n",
      "  path: /home/jonathan/git/pdiot-ml/data/sets/pdiot-data/\n",
      "MODEL:\n",
      "  ARCH:\n",
      "    LSTM:\n",
      "      hidden_size: 16\n",
      "      num_layers: 0\n",
      "    MLP:\n",
      "      dropout: 0.2\n",
      "      hidden_size: 32\n",
      "      num_layers: 3\n",
      "  INPUT:\n",
      "    format: summary\n",
      "    sensor: all\n",
      "    window_size: 15\n",
      "TRAIN:\n",
      "  DATA:\n",
      "    batch_size: 128\n",
      "    overlap_size: 5\n",
      "  FN:\n",
      "    config: config.yaml\n",
      "    history: history.csv\n",
      "    log: log.txt\n",
      "    weight: weights.hdf5\n",
      "  LEN:\n",
      "    early_stop: 10\n",
      "    num_epoch: 100\n",
      "  LR:\n",
      "    gamma: 0.1\n",
      "    schedule: step\n",
      "    step_size: 40\n",
      "  OPTIM:\n",
      "    lr: 0.001\n",
      "    momentum: 0.9\n",
      "    optim: adam\n",
      "    weight_decay: 0.0005\n",
      "  path: /home/jonathan/git/pdiot-ml/ckpt/mlp-motion/\n"
     ]
    }
   ],
   "source": [
    "config_fp = '/home/jonathan/git/pdiot-ml/cfg/mlp-motion.yaml'\n",
    "cfg.merge_from_file(config_fp)\n",
    "cfg.DATASET.path = '/home/jonathan/git/pdiot-ml/data/sets/pdiot-data/'\n",
    "cfg.TRAIN.path = '/home/jonathan/git/pdiot-ml/ckpt/mlp-motion/'   \n",
    "print(cfg)"
   ]
  },
  {
   "cell_type": "markdown",
   "metadata": {},
   "source": [
    "### Data"
   ]
  },
  {
   "cell_type": "code",
   "execution_count": 3,
   "metadata": {},
   "outputs": [],
   "source": [
    "train_odgt_fp = os.path.join(cfg.DATASET.path, cfg.DATASET.LIST.train)\n",
    "val_odgt_fp = os.path.join(cfg.DATASET.path, cfg.DATASET.LIST.val)\n",
    "\n",
    "train_X, train_y = odgt2data(train_odgt_fp, cfg.MODEL.INPUT.window_size, \n",
    "                                            cfg.TRAIN.DATA.overlap_size, \n",
    "                                            cfg.DATASET.num_classes)\n",
    "val_X, val_y = odgt2data(val_odgt_fp, cfg.MODEL.INPUT.window_size, \n",
    "                                      cfg.TRAIN.DATA.overlap_size,\n",
    "                                      cfg.DATASET.num_classes)"
   ]
  },
  {
   "cell_type": "markdown",
   "metadata": {},
   "source": [
    "### Model"
   ]
  },
  {
   "cell_type": "code",
   "execution_count": 4,
   "metadata": {},
   "outputs": [
    {
     "name": "stderr",
     "output_type": "stream",
     "text": [
      "2023-11-10 00:57:49.960404: I tensorflow/core/platform/cpu_feature_guard.cc:193] This TensorFlow binary is optimized with oneAPI Deep Neural Network Library (oneDNN) to use the following CPU instructions in performance-critical operations:  SSE4.1 SSE4.2 AVX AVX2 FMA\n",
      "To enable them in other operations, rebuild TensorFlow with the appropriate compiler flags.\n",
      "2023-11-10 00:57:49.961796: I tensorflow/core/common_runtime/process_util.cc:146] Creating new thread pool with default inter op setting: 2. Tune using inter_op_parallelism_threads for best performance.\n"
     ]
    },
    {
     "name": "stdout",
     "output_type": "stream",
     "text": [
      "Epoch 1/100\n",
      "1101/1101 [==============================] - 8s 7ms/step - loss: 0.2432 - acc: 0.9120 - val_loss: 0.1097 - val_acc: 0.9597 - lr: 0.0010\n",
      "Epoch 2/100\n",
      "1101/1101 [==============================] - 9s 8ms/step - loss: 0.0922 - acc: 0.9646 - val_loss: 0.0814 - val_acc: 0.9679 - lr: 0.0010\n",
      "Epoch 3/100\n",
      "1101/1101 [==============================] - 8s 8ms/step - loss: 0.0657 - acc: 0.9763 - val_loss: 0.0525 - val_acc: 0.9786 - lr: 0.0010\n",
      "Epoch 4/100\n",
      "1101/1101 [==============================] - 10s 9ms/step - loss: 0.0568 - acc: 0.9794 - val_loss: 0.0525 - val_acc: 0.9765 - lr: 0.0010\n",
      "Epoch 5/100\n",
      "1101/1101 [==============================] - 8s 8ms/step - loss: 0.0543 - acc: 0.9807 - val_loss: 0.0503 - val_acc: 0.9805 - lr: 0.0010\n",
      "Epoch 6/100\n",
      "1101/1101 [==============================] - 9s 8ms/step - loss: 0.0519 - acc: 0.9814 - val_loss: 0.0461 - val_acc: 0.9808 - lr: 0.0010\n",
      "Epoch 7/100\n",
      "1101/1101 [==============================] - 9s 8ms/step - loss: 0.0502 - acc: 0.9822 - val_loss: 0.0436 - val_acc: 0.9810 - lr: 0.0010\n",
      "Epoch 8/100\n",
      "1101/1101 [==============================] - 9s 8ms/step - loss: 0.0490 - acc: 0.9826 - val_loss: 0.0469 - val_acc: 0.9802 - lr: 0.0010\n",
      "Epoch 9/100\n",
      "1101/1101 [==============================] - 9s 8ms/step - loss: 0.0477 - acc: 0.9832 - val_loss: 0.0428 - val_acc: 0.9797 - lr: 0.0010\n",
      "Epoch 10/100\n",
      "1101/1101 [==============================] - 9s 8ms/step - loss: 0.0470 - acc: 0.9833 - val_loss: 0.0356 - val_acc: 0.9832 - lr: 0.0010\n",
      "Epoch 11/100\n",
      "1101/1101 [==============================] - 7s 6ms/step - loss: 0.0466 - acc: 0.9836 - val_loss: 0.0378 - val_acc: 0.9832 - lr: 0.0010\n",
      "Epoch 12/100\n",
      "1101/1101 [==============================] - 6s 6ms/step - loss: 0.0458 - acc: 0.9840 - val_loss: 0.0375 - val_acc: 0.9834 - lr: 0.0010\n",
      "Epoch 13/100\n",
      "1101/1101 [==============================] - 8s 7ms/step - loss: 0.0458 - acc: 0.9841 - val_loss: 0.0371 - val_acc: 0.9848 - lr: 0.0010\n",
      "Epoch 14/100\n",
      "1101/1101 [==============================] - 9s 9ms/step - loss: 0.0449 - acc: 0.9842 - val_loss: 0.0391 - val_acc: 0.9832 - lr: 0.0010\n",
      "Epoch 15/100\n",
      "1101/1101 [==============================] - 10s 9ms/step - loss: 0.0440 - acc: 0.9845 - val_loss: 0.0365 - val_acc: 0.9837 - lr: 0.0010\n",
      "Epoch 16/100\n",
      "1101/1101 [==============================] - 10s 9ms/step - loss: 0.0442 - acc: 0.9843 - val_loss: 0.0395 - val_acc: 0.9821 - lr: 0.0010\n",
      "Epoch 17/100\n",
      "1101/1101 [==============================] - 11s 10ms/step - loss: 0.0444 - acc: 0.9844 - val_loss: 0.0365 - val_acc: 0.9824 - lr: 0.0010\n",
      "Epoch 18/100\n",
      "1101/1101 [==============================] - 11s 10ms/step - loss: 0.0435 - acc: 0.9845 - val_loss: 0.0385 - val_acc: 0.9810 - lr: 0.0010\n",
      "Epoch 19/100\n",
      "1101/1101 [==============================] - 13s 12ms/step - loss: 0.0434 - acc: 0.9848 - val_loss: 0.0347 - val_acc: 0.9850 - lr: 0.0010\n",
      "Epoch 20/100\n",
      "1101/1101 [==============================] - 10s 9ms/step - loss: 0.0431 - acc: 0.9850 - val_loss: 0.0358 - val_acc: 0.9856 - lr: 0.0010\n",
      "Epoch 21/100\n",
      "1101/1101 [==============================] - 10s 9ms/step - loss: 0.0433 - acc: 0.9847 - val_loss: 0.0343 - val_acc: 0.9850 - lr: 0.0010\n",
      "Epoch 22/100\n",
      "1101/1101 [==============================] - 12s 11ms/step - loss: 0.0423 - acc: 0.9850 - val_loss: 0.0385 - val_acc: 0.9824 - lr: 0.0010\n",
      "Epoch 23/100\n",
      "1101/1101 [==============================] - 17s 15ms/step - loss: 0.0421 - acc: 0.9850 - val_loss: 0.0329 - val_acc: 0.9853 - lr: 0.0010\n",
      "Epoch 24/100\n",
      "1101/1101 [==============================] - 9s 8ms/step - loss: 0.0424 - acc: 0.9850 - val_loss: 0.0347 - val_acc: 0.9872 - lr: 0.0010\n",
      "Epoch 25/100\n",
      "1101/1101 [==============================] - 14s 12ms/step - loss: 0.0419 - acc: 0.9851 - val_loss: 0.0380 - val_acc: 0.9834 - lr: 0.0010\n",
      "Epoch 26/100\n",
      "1101/1101 [==============================] - 12s 11ms/step - loss: 0.0424 - acc: 0.9851 - val_loss: 0.0390 - val_acc: 0.9829 - lr: 0.0010\n",
      "Epoch 27/100\n",
      "1101/1101 [==============================] - 12s 11ms/step - loss: 0.0416 - acc: 0.9852 - val_loss: 0.0323 - val_acc: 0.9869 - lr: 0.0010\n",
      "Epoch 28/100\n",
      "1101/1101 [==============================] - 15s 14ms/step - loss: 0.0416 - acc: 0.9854 - val_loss: 0.0357 - val_acc: 0.9832 - lr: 0.0010\n",
      "Epoch 29/100\n",
      "1101/1101 [==============================] - 13s 12ms/step - loss: 0.0420 - acc: 0.9851 - val_loss: 0.0425 - val_acc: 0.9824 - lr: 0.0010\n",
      "Epoch 30/100\n",
      "1101/1101 [==============================] - 10s 9ms/step - loss: 0.0409 - acc: 0.9852 - val_loss: 0.0289 - val_acc: 0.9888 - lr: 0.0010\n",
      "Epoch 31/100\n",
      "1101/1101 [==============================] - 9s 8ms/step - loss: 0.0409 - acc: 0.9853 - val_loss: 0.0363 - val_acc: 0.9832 - lr: 0.0010\n",
      "Epoch 32/100\n",
      "1101/1101 [==============================] - 13s 12ms/step - loss: 0.0415 - acc: 0.9854 - val_loss: 0.0370 - val_acc: 0.9837 - lr: 0.0010\n",
      "Epoch 33/100\n",
      "1101/1101 [==============================] - 20s 18ms/step - loss: 0.0413 - acc: 0.9855 - val_loss: 0.0384 - val_acc: 0.9826 - lr: 0.0010\n",
      "Epoch 34/100\n",
      "1101/1101 [==============================] - 9s 8ms/step - loss: 0.0412 - acc: 0.9850 - val_loss: 0.0377 - val_acc: 0.9824 - lr: 0.0010\n",
      "Epoch 35/100\n",
      "1101/1101 [==============================] - 9s 8ms/step - loss: 0.0409 - acc: 0.9855 - val_loss: 0.0369 - val_acc: 0.9826 - lr: 0.0010\n",
      "Epoch 36/100\n",
      "1101/1101 [==============================] - 9s 8ms/step - loss: 0.0407 - acc: 0.9856 - val_loss: 0.0427 - val_acc: 0.9808 - lr: 0.0010\n",
      "Epoch 37/100\n",
      "1101/1101 [==============================] - 14s 13ms/step - loss: 0.0401 - acc: 0.9859 - val_loss: 0.0357 - val_acc: 0.9858 - lr: 0.0010\n",
      "Epoch 38/100\n",
      "1101/1101 [==============================] - 28s 25ms/step - loss: 0.0409 - acc: 0.9856 - val_loss: 0.0392 - val_acc: 0.9821 - lr: 0.0010\n",
      "Epoch 39/100\n",
      "1101/1101 [==============================] - 36s 33ms/step - loss: 0.0404 - acc: 0.9858 - val_loss: 0.0378 - val_acc: 0.9818 - lr: 0.0010\n",
      "Epoch 40/100\n",
      "1101/1101 [==============================] - 32s 29ms/step - loss: 0.0403 - acc: 0.9857 - val_loss: 0.0404 - val_acc: 0.9821 - lr: 0.0010\n"
     ]
    },
    {
     "data": {
      "text/plain": [
       "<keras.callbacks.History at 0x7f27a3c61990>"
      ]
     },
     "execution_count": 4,
     "metadata": {},
     "output_type": "execute_result"
    }
   ],
   "source": [
    "model = ModelBuilder.build_classifier(cfg.MODEL, '', cfg.DATASET.num_classes)\n",
    "optimizer = OptimizerBuilder.build_optimizer(cfg.TRAIN.OPTIM)\n",
    "loss = tf.keras.losses.SparseCategoricalCrossentropy()\n",
    "metrics = [\n",
    "    tf.keras.metrics.SparseCategoricalAccuracy(name='acc'),\n",
    "]\n",
    "\n",
    "lr_scheduler = LRScheduleBuilder.build_scheduler(cfg.TRAIN.LR)\n",
    "lr_callback = tf.keras.callbacks.LearningRateScheduler(lr_scheduler)\n",
    "\n",
    "early_stop_callback = tf.keras.callbacks.EarlyStopping(monitor='val_acc', patience=cfg.TRAIN.LEN.early_stop)\n",
    "\n",
    "checkpoint_callback = tf.keras.callbacks.ModelCheckpoint(\n",
    "    filepath=os.path.join(cfg.TRAIN.path, 'weights.hdf5'),\n",
    "    save_weights_only=True,\n",
    "    monitor='val_acc',\n",
    "    mode='max',\n",
    "    save_best_only=True)\n",
    "\n",
    "history_callback = tf.keras.callbacks.CSVLogger(\n",
    "    os.path.join(cfg.TRAIN.path, 'history.csv'), \n",
    "    separator=',', \n",
    "    append=False)\n",
    "\n",
    "model.compile(optimizer=optimizer, loss=loss, metrics=metrics)\n",
    "model.fit(train_X, train_y, validation_data=(val_X, val_y), \n",
    "          epochs=cfg.TRAIN.LEN.num_epoch, \n",
    "          batch_size=cfg.TRAIN.DATA.batch_size,\n",
    "          callbacks=[lr_callback, \n",
    "                     early_stop_callback,\n",
    "                     checkpoint_callback,\n",
    "                     history_callback])"
   ]
  },
  {
   "cell_type": "code",
   "execution_count": 5,
   "metadata": {},
   "outputs": [
    {
     "name": "stdout",
     "output_type": "stream",
     "text": [
      "Model: \"sequential\"\n",
      "_________________________________________________________________\n",
      " Layer (type)                Output Shape              Param #   \n",
      "=================================================================\n",
      " sequential_1 (Sequential)   (None, 12)                0         \n",
      "                                                                 \n",
      " dense (Dense)               (None, 32)                416       \n",
      "                                                                 \n",
      " dropout (Dropout)           (None, 32)                0         \n",
      "                                                                 \n",
      " dense_1 (Dense)             (None, 32)                1056      \n",
      "                                                                 \n",
      " dropout_1 (Dropout)         (None, 32)                0         \n",
      "                                                                 \n",
      " dense_2 (Dense)             (None, 32)                1056      \n",
      "                                                                 \n",
      " dropout_2 (Dropout)         (None, 32)                0         \n",
      "                                                                 \n",
      " dense_3 (Dense)             (None, 2)                 66        \n",
      "                                                                 \n",
      "=================================================================\n",
      "Total params: 2,594\n",
      "Trainable params: 2,594\n",
      "Non-trainable params: 0\n",
      "_________________________________________________________________\n"
     ]
    }
   ],
   "source": [
    "model.summary()"
   ]
  }
 ],
 "metadata": {
  "kernelspec": {
   "display_name": "pdiot",
   "language": "python",
   "name": "python3"
  },
  "language_info": {
   "codemirror_mode": {
    "name": "ipython",
    "version": 3
   },
   "file_extension": ".py",
   "mimetype": "text/x-python",
   "name": "python",
   "nbconvert_exporter": "python",
   "pygments_lexer": "ipython3",
   "version": "3.10.13"
  }
 },
 "nbformat": 4,
 "nbformat_minor": 2
}

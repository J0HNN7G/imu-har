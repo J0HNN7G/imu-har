{
 "cells": [
  {
   "cell_type": "markdown",
   "metadata": {},
   "source": [
    "# PDIoT Group A1 model"
   ]
  },
  {
   "cell_type": "markdown",
   "metadata": {},
   "source": [
    "### Imports"
   ]
  },
  {
   "cell_type": "code",
   "execution_count": 1,
   "metadata": {},
   "outputs": [
    {
     "name": "stderr",
     "output_type": "stream",
     "text": [
      "2023-11-17 17:18:09.114220: I tensorflow/core/platform/cpu_feature_guard.cc:182] This TensorFlow binary is optimized to use available CPU instructions in performance-critical operations.\n",
      "To enable the following instructions: SSE4.1 SSE4.2 AVX AVX2 FMA, in other operations, rebuild TensorFlow with the appropriate compiler flags.\n"
     ]
    },
    {
     "name": "stdout",
     "output_type": "stream",
     "text": [
      "All packages imported!\n"
     ]
    }
   ],
   "source": [
    "import os\n",
    "import numpy as np\n",
    "import tensorflow as tf\n",
    "\n",
    "from ml.config import cfg\n",
    "from ml.dataset import odgt2data\n",
    "from ml.models import ModelBuilder, OptimizerBuilder, LRScheduleBuilder, TimingCallback\n",
    "\n",
    "print(\"All packages imported!\")"
   ]
  },
  {
   "cell_type": "markdown",
   "metadata": {},
   "source": [
    "### Config"
   ]
  },
  {
   "cell_type": "code",
   "execution_count": 2,
   "metadata": {},
   "outputs": [
    {
     "name": "stdout",
     "output_type": "stream",
     "text": [
      "DATASET:\n",
      "  LIST:\n",
      "    test: test_motion_pdiot-data.odgt\n",
      "    train: train_motion_pdiot-data.odgt\n",
      "    val: val_motion_pdiot-data.odgt\n",
      "  num_classes: 2\n",
      "  path: /home/jonathan/git/pdiot-ml/data/sets/pdiot-data/\n",
      "MODEL:\n",
      "  ARCH:\n",
      "    LSTM:\n",
      "      hidden_size: 0\n",
      "      num_layers: 0\n",
      "    MLP:\n",
      "      dropout: 0.2\n",
      "      hidden_size: 128\n",
      "      num_layers: 2\n",
      "  INPUT:\n",
      "    format: normal\n",
      "    sensor: all\n",
      "    window_size: 15\n",
      "TRAIN:\n",
      "  DATA:\n",
      "    batch_size: 128\n",
      "    overlap_size: 12\n",
      "  FN:\n",
      "    config: config.yaml\n",
      "    history: history.csv\n",
      "    log: log.txt\n",
      "    weight: weights.hdf5\n",
      "  LEN:\n",
      "    early_stop: 10\n",
      "    num_epoch: 100\n",
      "  LR:\n",
      "    gamma: 0.1\n",
      "    schedule: step\n",
      "    step_size: 40\n",
      "  OPTIM:\n",
      "    lr: 0.001\n",
      "    momentum: 0.9\n",
      "    optim: adam\n",
      "    weight_decay: 0.0005\n",
      "  path: /home/jonathan/git/pdiot-ml/ckpt/motion-mlp/\n"
     ]
    }
   ],
   "source": [
    "config_fp = '/home/jonathan/git/pdiot-ml/config/motion-mlp.yaml'\n",
    "cfg.merge_from_file(config_fp)\n",
    "cfg.DATASET.path = '/home/jonathan/git/pdiot-ml/data/sets/pdiot-data/'\n",
    "cfg.TRAIN.path = '/home/jonathan/git/pdiot-ml/ckpt/motion-mlp/'   \n",
    "print(cfg)"
   ]
  },
  {
   "cell_type": "markdown",
   "metadata": {},
   "source": [
    "### Data"
   ]
  },
  {
   "cell_type": "code",
   "execution_count": 3,
   "metadata": {},
   "outputs": [],
   "source": [
    "train_odgt_fp = os.path.join(cfg.DATASET.path, cfg.DATASET.LIST.train)\n",
    "val_odgt_fp = os.path.join(cfg.DATASET.path, cfg.DATASET.LIST.val)\n",
    "\n",
    "train_X, train_y = odgt2data(train_odgt_fp, cfg.MODEL.INPUT.window_size, \n",
    "                                            cfg.TRAIN.DATA.overlap_size, \n",
    "                                            cfg.DATASET.num_classes)\n",
    "val_X, val_y = odgt2data(val_odgt_fp, cfg.MODEL.INPUT.window_size, \n",
    "                                      cfg.TRAIN.DATA.overlap_size,\n",
    "                                      cfg.DATASET.num_classes)"
   ]
  },
  {
   "cell_type": "markdown",
   "metadata": {},
   "source": [
    "### Model"
   ]
  },
  {
   "cell_type": "code",
   "execution_count": 4,
   "metadata": {},
   "outputs": [
    {
     "name": "stderr",
     "output_type": "stream",
     "text": [
      "2023-11-17 17:18:17.091060: I tensorflow/core/common_runtime/process_util.cc:146] Creating new thread pool with default inter op setting: 2. Tune using inter_op_parallelism_threads for best performance.\n"
     ]
    },
    {
     "name": "stdout",
     "output_type": "stream",
     "text": [
      "Epoch 1/100\n",
      "5709/5709 [==============================] - 47s 8ms/step - loss: 0.1190 - acc: 0.9543 - val_loss: 0.0733 - val_acc: 0.9738 - lr: 0.0010 - time: 46.5467\n",
      "Epoch 2/100\n",
      "5709/5709 [==============================] - 54s 9ms/step - loss: 0.0780 - acc: 0.9690 - val_loss: 0.0714 - val_acc: 0.9724 - lr: 0.0010 - time: 53.6730\n",
      "Epoch 3/100\n",
      "5709/5709 [==============================] - 64s 11ms/step - loss: 0.0718 - acc: 0.9721 - val_loss: 0.0660 - val_acc: 0.9774 - lr: 0.0010 - time: 63.8896\n",
      "Epoch 4/100\n",
      "5709/5709 [==============================] - 71s 12ms/step - loss: 0.0687 - acc: 0.9735 - val_loss: 0.0668 - val_acc: 0.9739 - lr: 0.0010 - time: 71.1809\n",
      "Epoch 5/100\n",
      "5709/5709 [==============================] - 67s 12ms/step - loss: 0.0663 - acc: 0.9746 - val_loss: 0.0621 - val_acc: 0.9769 - lr: 0.0010 - time: 66.6827\n",
      "Epoch 6/100\n",
      "5709/5709 [==============================] - 68s 12ms/step - loss: 0.0645 - acc: 0.9755 - val_loss: 0.0585 - val_acc: 0.9785 - lr: 0.0010 - time: 67.6070\n",
      "Epoch 7/100\n",
      "5709/5709 [==============================] - 80s 14ms/step - loss: 0.0626 - acc: 0.9763 - val_loss: 0.0613 - val_acc: 0.9768 - lr: 0.0010 - time: 79.8170\n",
      "Epoch 8/100\n",
      "5709/5709 [==============================] - 75s 13ms/step - loss: 0.0604 - acc: 0.9774 - val_loss: 0.0592 - val_acc: 0.9773 - lr: 0.0010 - time: 74.7270\n",
      "Epoch 9/100\n",
      "5709/5709 [==============================] - 116s 20ms/step - loss: 0.0556 - acc: 0.9793 - val_loss: 0.0640 - val_acc: 0.9751 - lr: 0.0010 - time: 116.0364\n",
      "Epoch 10/100\n",
      "5709/5709 [==============================] - 67s 12ms/step - loss: 0.0491 - acc: 0.9820 - val_loss: 0.0576 - val_acc: 0.9770 - lr: 0.0010 - time: 66.5818\n",
      "Epoch 11/100\n",
      " 740/5709 [==>...........................] - ETA: 45s - loss: 0.0444 - acc: 0.9840"
     ]
    },
    {
     "ename": "KeyboardInterrupt",
     "evalue": "",
     "output_type": "error",
     "traceback": [
      "\u001b[0;31m---------------------------------------------------------------------------\u001b[0m",
      "\u001b[0;31mKeyboardInterrupt\u001b[0m                         Traceback (most recent call last)",
      "\u001b[1;32m/home/jonathan/git/pdiot-ml/dev.ipynb Cell 9\u001b[0m line \u001b[0;36m2\n\u001b[1;32m     <a href='vscode-notebook-cell:/home/jonathan/git/pdiot-ml/dev.ipynb#X11sZmlsZQ%3D%3D?line=21'>22</a>\u001b[0m history_callback \u001b[39m=\u001b[39m tf\u001b[39m.\u001b[39mkeras\u001b[39m.\u001b[39mcallbacks\u001b[39m.\u001b[39mCSVLogger(\n\u001b[1;32m     <a href='vscode-notebook-cell:/home/jonathan/git/pdiot-ml/dev.ipynb#X11sZmlsZQ%3D%3D?line=22'>23</a>\u001b[0m     os\u001b[39m.\u001b[39mpath\u001b[39m.\u001b[39mjoin(cfg\u001b[39m.\u001b[39mTRAIN\u001b[39m.\u001b[39mpath, \u001b[39m'\u001b[39m\u001b[39mhistory.csv\u001b[39m\u001b[39m'\u001b[39m), \n\u001b[1;32m     <a href='vscode-notebook-cell:/home/jonathan/git/pdiot-ml/dev.ipynb#X11sZmlsZQ%3D%3D?line=23'>24</a>\u001b[0m     separator\u001b[39m=\u001b[39m\u001b[39m'\u001b[39m\u001b[39m,\u001b[39m\u001b[39m'\u001b[39m, \n\u001b[1;32m     <a href='vscode-notebook-cell:/home/jonathan/git/pdiot-ml/dev.ipynb#X11sZmlsZQ%3D%3D?line=24'>25</a>\u001b[0m     append\u001b[39m=\u001b[39m\u001b[39mFalse\u001b[39;00m)\n\u001b[1;32m     <a href='vscode-notebook-cell:/home/jonathan/git/pdiot-ml/dev.ipynb#X11sZmlsZQ%3D%3D?line=26'>27</a>\u001b[0m model\u001b[39m.\u001b[39mcompile(optimizer\u001b[39m=\u001b[39moptimizer, loss\u001b[39m=\u001b[39mloss, metrics\u001b[39m=\u001b[39mmetrics)\n\u001b[0;32m---> <a href='vscode-notebook-cell:/home/jonathan/git/pdiot-ml/dev.ipynb#X11sZmlsZQ%3D%3D?line=27'>28</a>\u001b[0m model\u001b[39m.\u001b[39;49mfit(train_X, train_y, validation_data\u001b[39m=\u001b[39;49m(val_X, val_y), \n\u001b[1;32m     <a href='vscode-notebook-cell:/home/jonathan/git/pdiot-ml/dev.ipynb#X11sZmlsZQ%3D%3D?line=28'>29</a>\u001b[0m           epochs\u001b[39m=\u001b[39;49mcfg\u001b[39m.\u001b[39;49mTRAIN\u001b[39m.\u001b[39;49mLEN\u001b[39m.\u001b[39;49mnum_epoch, \n\u001b[1;32m     <a href='vscode-notebook-cell:/home/jonathan/git/pdiot-ml/dev.ipynb#X11sZmlsZQ%3D%3D?line=29'>30</a>\u001b[0m           batch_size\u001b[39m=\u001b[39;49mcfg\u001b[39m.\u001b[39;49mTRAIN\u001b[39m.\u001b[39;49mDATA\u001b[39m.\u001b[39;49mbatch_size,\n\u001b[1;32m     <a href='vscode-notebook-cell:/home/jonathan/git/pdiot-ml/dev.ipynb#X11sZmlsZQ%3D%3D?line=30'>31</a>\u001b[0m           callbacks\u001b[39m=\u001b[39;49m[lr_callback, \n\u001b[1;32m     <a href='vscode-notebook-cell:/home/jonathan/git/pdiot-ml/dev.ipynb#X11sZmlsZQ%3D%3D?line=31'>32</a>\u001b[0m                      early_stop_callback,\n\u001b[1;32m     <a href='vscode-notebook-cell:/home/jonathan/git/pdiot-ml/dev.ipynb#X11sZmlsZQ%3D%3D?line=32'>33</a>\u001b[0m                      checkpoint_callback,\n\u001b[1;32m     <a href='vscode-notebook-cell:/home/jonathan/git/pdiot-ml/dev.ipynb#X11sZmlsZQ%3D%3D?line=33'>34</a>\u001b[0m                      timing_callback,\n\u001b[1;32m     <a href='vscode-notebook-cell:/home/jonathan/git/pdiot-ml/dev.ipynb#X11sZmlsZQ%3D%3D?line=34'>35</a>\u001b[0m                      history_callback])\n",
      "File \u001b[0;32m~/miniconda3/envs/pdiot/lib/python3.10/site-packages/keras/utils/traceback_utils.py:65\u001b[0m, in \u001b[0;36mfilter_traceback.<locals>.error_handler\u001b[0;34m(*args, **kwargs)\u001b[0m\n\u001b[1;32m     63\u001b[0m filtered_tb \u001b[39m=\u001b[39m \u001b[39mNone\u001b[39;00m\n\u001b[1;32m     64\u001b[0m \u001b[39mtry\u001b[39;00m:\n\u001b[0;32m---> 65\u001b[0m     \u001b[39mreturn\u001b[39;00m fn(\u001b[39m*\u001b[39;49margs, \u001b[39m*\u001b[39;49m\u001b[39m*\u001b[39;49mkwargs)\n\u001b[1;32m     66\u001b[0m \u001b[39mexcept\u001b[39;00m \u001b[39mException\u001b[39;00m \u001b[39mas\u001b[39;00m e:\n\u001b[1;32m     67\u001b[0m     filtered_tb \u001b[39m=\u001b[39m _process_traceback_frames(e\u001b[39m.\u001b[39m__traceback__)\n",
      "File \u001b[0;32m~/miniconda3/envs/pdiot/lib/python3.10/site-packages/keras/engine/training.py:1685\u001b[0m, in \u001b[0;36mModel.fit\u001b[0;34m(self, x, y, batch_size, epochs, verbose, callbacks, validation_split, validation_data, shuffle, class_weight, sample_weight, initial_epoch, steps_per_epoch, validation_steps, validation_batch_size, validation_freq, max_queue_size, workers, use_multiprocessing)\u001b[0m\n\u001b[1;32m   1677\u001b[0m \u001b[39mwith\u001b[39;00m tf\u001b[39m.\u001b[39mprofiler\u001b[39m.\u001b[39mexperimental\u001b[39m.\u001b[39mTrace(\n\u001b[1;32m   1678\u001b[0m     \u001b[39m\"\u001b[39m\u001b[39mtrain\u001b[39m\u001b[39m\"\u001b[39m,\n\u001b[1;32m   1679\u001b[0m     epoch_num\u001b[39m=\u001b[39mepoch,\n\u001b[0;32m   (...)\u001b[0m\n\u001b[1;32m   1682\u001b[0m     _r\u001b[39m=\u001b[39m\u001b[39m1\u001b[39m,\n\u001b[1;32m   1683\u001b[0m ):\n\u001b[1;32m   1684\u001b[0m     callbacks\u001b[39m.\u001b[39mon_train_batch_begin(step)\n\u001b[0;32m-> 1685\u001b[0m     tmp_logs \u001b[39m=\u001b[39m \u001b[39mself\u001b[39;49m\u001b[39m.\u001b[39;49mtrain_function(iterator)\n\u001b[1;32m   1686\u001b[0m     \u001b[39mif\u001b[39;00m data_handler\u001b[39m.\u001b[39mshould_sync:\n\u001b[1;32m   1687\u001b[0m         context\u001b[39m.\u001b[39masync_wait()\n",
      "File \u001b[0;32m~/miniconda3/envs/pdiot/lib/python3.10/site-packages/tensorflow/python/util/traceback_utils.py:150\u001b[0m, in \u001b[0;36mfilter_traceback.<locals>.error_handler\u001b[0;34m(*args, **kwargs)\u001b[0m\n\u001b[1;32m    148\u001b[0m filtered_tb \u001b[39m=\u001b[39m \u001b[39mNone\u001b[39;00m\n\u001b[1;32m    149\u001b[0m \u001b[39mtry\u001b[39;00m:\n\u001b[0;32m--> 150\u001b[0m   \u001b[39mreturn\u001b[39;00m fn(\u001b[39m*\u001b[39;49margs, \u001b[39m*\u001b[39;49m\u001b[39m*\u001b[39;49mkwargs)\n\u001b[1;32m    151\u001b[0m \u001b[39mexcept\u001b[39;00m \u001b[39mException\u001b[39;00m \u001b[39mas\u001b[39;00m e:\n\u001b[1;32m    152\u001b[0m   filtered_tb \u001b[39m=\u001b[39m _process_traceback_frames(e\u001b[39m.\u001b[39m__traceback__)\n",
      "File \u001b[0;32m~/miniconda3/envs/pdiot/lib/python3.10/site-packages/tensorflow/python/eager/polymorphic_function/polymorphic_function.py:894\u001b[0m, in \u001b[0;36mFunction.__call__\u001b[0;34m(self, *args, **kwds)\u001b[0m\n\u001b[1;32m    891\u001b[0m compiler \u001b[39m=\u001b[39m \u001b[39m\"\u001b[39m\u001b[39mxla\u001b[39m\u001b[39m\"\u001b[39m \u001b[39mif\u001b[39;00m \u001b[39mself\u001b[39m\u001b[39m.\u001b[39m_jit_compile \u001b[39melse\u001b[39;00m \u001b[39m\"\u001b[39m\u001b[39mnonXla\u001b[39m\u001b[39m\"\u001b[39m\n\u001b[1;32m    893\u001b[0m \u001b[39mwith\u001b[39;00m OptionalXlaContext(\u001b[39mself\u001b[39m\u001b[39m.\u001b[39m_jit_compile):\n\u001b[0;32m--> 894\u001b[0m   result \u001b[39m=\u001b[39m \u001b[39mself\u001b[39;49m\u001b[39m.\u001b[39;49m_call(\u001b[39m*\u001b[39;49margs, \u001b[39m*\u001b[39;49m\u001b[39m*\u001b[39;49mkwds)\n\u001b[1;32m    896\u001b[0m new_tracing_count \u001b[39m=\u001b[39m \u001b[39mself\u001b[39m\u001b[39m.\u001b[39mexperimental_get_tracing_count()\n\u001b[1;32m    897\u001b[0m without_tracing \u001b[39m=\u001b[39m (tracing_count \u001b[39m==\u001b[39m new_tracing_count)\n",
      "File \u001b[0;32m~/miniconda3/envs/pdiot/lib/python3.10/site-packages/tensorflow/python/eager/polymorphic_function/polymorphic_function.py:926\u001b[0m, in \u001b[0;36mFunction._call\u001b[0;34m(self, *args, **kwds)\u001b[0m\n\u001b[1;32m    923\u001b[0m   \u001b[39mself\u001b[39m\u001b[39m.\u001b[39m_lock\u001b[39m.\u001b[39mrelease()\n\u001b[1;32m    924\u001b[0m   \u001b[39m# In this case we have created variables on the first call, so we run the\u001b[39;00m\n\u001b[1;32m    925\u001b[0m   \u001b[39m# defunned version which is guaranteed to never create variables.\u001b[39;00m\n\u001b[0;32m--> 926\u001b[0m   \u001b[39mreturn\u001b[39;00m \u001b[39mself\u001b[39;49m\u001b[39m.\u001b[39;49m_no_variable_creation_fn(\u001b[39m*\u001b[39;49margs, \u001b[39m*\u001b[39;49m\u001b[39m*\u001b[39;49mkwds)  \u001b[39m# pylint: disable=not-callable\u001b[39;00m\n\u001b[1;32m    927\u001b[0m \u001b[39melif\u001b[39;00m \u001b[39mself\u001b[39m\u001b[39m.\u001b[39m_variable_creation_fn \u001b[39mis\u001b[39;00m \u001b[39mnot\u001b[39;00m \u001b[39mNone\u001b[39;00m:\n\u001b[1;32m    928\u001b[0m   \u001b[39m# Release the lock early so that multiple threads can perform the call\u001b[39;00m\n\u001b[1;32m    929\u001b[0m   \u001b[39m# in parallel.\u001b[39;00m\n\u001b[1;32m    930\u001b[0m   \u001b[39mself\u001b[39m\u001b[39m.\u001b[39m_lock\u001b[39m.\u001b[39mrelease()\n",
      "File \u001b[0;32m~/miniconda3/envs/pdiot/lib/python3.10/site-packages/tensorflow/python/eager/polymorphic_function/tracing_compiler.py:143\u001b[0m, in \u001b[0;36mTracingCompiler.__call__\u001b[0;34m(self, *args, **kwargs)\u001b[0m\n\u001b[1;32m    140\u001b[0m \u001b[39mwith\u001b[39;00m \u001b[39mself\u001b[39m\u001b[39m.\u001b[39m_lock:\n\u001b[1;32m    141\u001b[0m   (concrete_function,\n\u001b[1;32m    142\u001b[0m    filtered_flat_args) \u001b[39m=\u001b[39m \u001b[39mself\u001b[39m\u001b[39m.\u001b[39m_maybe_define_function(args, kwargs)\n\u001b[0;32m--> 143\u001b[0m \u001b[39mreturn\u001b[39;00m concrete_function\u001b[39m.\u001b[39;49m_call_flat(\n\u001b[1;32m    144\u001b[0m     filtered_flat_args, captured_inputs\u001b[39m=\u001b[39;49mconcrete_function\u001b[39m.\u001b[39;49mcaptured_inputs)\n",
      "File \u001b[0;32m~/miniconda3/envs/pdiot/lib/python3.10/site-packages/tensorflow/python/eager/polymorphic_function/monomorphic_function.py:1757\u001b[0m, in \u001b[0;36mConcreteFunction._call_flat\u001b[0;34m(self, args, captured_inputs, cancellation_manager)\u001b[0m\n\u001b[1;32m   1753\u001b[0m possible_gradient_type \u001b[39m=\u001b[39m gradients_util\u001b[39m.\u001b[39mPossibleTapeGradientTypes(args)\n\u001b[1;32m   1754\u001b[0m \u001b[39mif\u001b[39;00m (possible_gradient_type \u001b[39m==\u001b[39m gradients_util\u001b[39m.\u001b[39mPOSSIBLE_GRADIENT_TYPES_NONE\n\u001b[1;32m   1755\u001b[0m     \u001b[39mand\u001b[39;00m executing_eagerly):\n\u001b[1;32m   1756\u001b[0m   \u001b[39m# No tape is watching; skip to running the function.\u001b[39;00m\n\u001b[0;32m-> 1757\u001b[0m   \u001b[39mreturn\u001b[39;00m \u001b[39mself\u001b[39m\u001b[39m.\u001b[39m_build_call_outputs(\u001b[39mself\u001b[39;49m\u001b[39m.\u001b[39;49m_inference_function\u001b[39m.\u001b[39;49mcall(\n\u001b[1;32m   1758\u001b[0m       ctx, args, cancellation_manager\u001b[39m=\u001b[39;49mcancellation_manager))\n\u001b[1;32m   1759\u001b[0m forward_backward \u001b[39m=\u001b[39m \u001b[39mself\u001b[39m\u001b[39m.\u001b[39m_select_forward_and_backward_functions(\n\u001b[1;32m   1760\u001b[0m     args,\n\u001b[1;32m   1761\u001b[0m     possible_gradient_type,\n\u001b[1;32m   1762\u001b[0m     executing_eagerly)\n\u001b[1;32m   1763\u001b[0m forward_function, args_with_tangents \u001b[39m=\u001b[39m forward_backward\u001b[39m.\u001b[39mforward()\n",
      "File \u001b[0;32m~/miniconda3/envs/pdiot/lib/python3.10/site-packages/tensorflow/python/eager/polymorphic_function/monomorphic_function.py:381\u001b[0m, in \u001b[0;36m_EagerDefinedFunction.call\u001b[0;34m(self, ctx, args, cancellation_manager)\u001b[0m\n\u001b[1;32m    379\u001b[0m \u001b[39mwith\u001b[39;00m _InterpolateFunctionError(\u001b[39mself\u001b[39m):\n\u001b[1;32m    380\u001b[0m   \u001b[39mif\u001b[39;00m cancellation_manager \u001b[39mis\u001b[39;00m \u001b[39mNone\u001b[39;00m:\n\u001b[0;32m--> 381\u001b[0m     outputs \u001b[39m=\u001b[39m execute\u001b[39m.\u001b[39;49mexecute(\n\u001b[1;32m    382\u001b[0m         \u001b[39mstr\u001b[39;49m(\u001b[39mself\u001b[39;49m\u001b[39m.\u001b[39;49msignature\u001b[39m.\u001b[39;49mname),\n\u001b[1;32m    383\u001b[0m         num_outputs\u001b[39m=\u001b[39;49m\u001b[39mself\u001b[39;49m\u001b[39m.\u001b[39;49m_num_outputs,\n\u001b[1;32m    384\u001b[0m         inputs\u001b[39m=\u001b[39;49margs,\n\u001b[1;32m    385\u001b[0m         attrs\u001b[39m=\u001b[39;49mattrs,\n\u001b[1;32m    386\u001b[0m         ctx\u001b[39m=\u001b[39;49mctx)\n\u001b[1;32m    387\u001b[0m   \u001b[39melse\u001b[39;00m:\n\u001b[1;32m    388\u001b[0m     outputs \u001b[39m=\u001b[39m execute\u001b[39m.\u001b[39mexecute_with_cancellation(\n\u001b[1;32m    389\u001b[0m         \u001b[39mstr\u001b[39m(\u001b[39mself\u001b[39m\u001b[39m.\u001b[39msignature\u001b[39m.\u001b[39mname),\n\u001b[1;32m    390\u001b[0m         num_outputs\u001b[39m=\u001b[39m\u001b[39mself\u001b[39m\u001b[39m.\u001b[39m_num_outputs,\n\u001b[0;32m   (...)\u001b[0m\n\u001b[1;32m    393\u001b[0m         ctx\u001b[39m=\u001b[39mctx,\n\u001b[1;32m    394\u001b[0m         cancellation_manager\u001b[39m=\u001b[39mcancellation_manager)\n",
      "File \u001b[0;32m~/miniconda3/envs/pdiot/lib/python3.10/site-packages/tensorflow/python/eager/execute.py:52\u001b[0m, in \u001b[0;36mquick_execute\u001b[0;34m(op_name, num_outputs, inputs, attrs, ctx, name)\u001b[0m\n\u001b[1;32m     50\u001b[0m \u001b[39mtry\u001b[39;00m:\n\u001b[1;32m     51\u001b[0m   ctx\u001b[39m.\u001b[39mensure_initialized()\n\u001b[0;32m---> 52\u001b[0m   tensors \u001b[39m=\u001b[39m pywrap_tfe\u001b[39m.\u001b[39;49mTFE_Py_Execute(ctx\u001b[39m.\u001b[39;49m_handle, device_name, op_name,\n\u001b[1;32m     53\u001b[0m                                       inputs, attrs, num_outputs)\n\u001b[1;32m     54\u001b[0m \u001b[39mexcept\u001b[39;00m core\u001b[39m.\u001b[39m_NotOkStatusException \u001b[39mas\u001b[39;00m e:\n\u001b[1;32m     55\u001b[0m   \u001b[39mif\u001b[39;00m name \u001b[39mis\u001b[39;00m \u001b[39mnot\u001b[39;00m \u001b[39mNone\u001b[39;00m:\n",
      "\u001b[0;31mKeyboardInterrupt\u001b[0m: "
     ]
    }
   ],
   "source": [
    "model = ModelBuilder.build_classifier(cfg.MODEL, '', cfg.DATASET.num_classes)\n",
    "optimizer = OptimizerBuilder.build_optimizer(cfg.TRAIN.OPTIM)\n",
    "loss = tf.keras.losses.SparseCategoricalCrossentropy()\n",
    "metrics = [\n",
    "    tf.keras.metrics.SparseCategoricalAccuracy(name='acc'),\n",
    "]\n",
    "\n",
    "lr_scheduler = LRScheduleBuilder.build_scheduler(cfg.TRAIN.LR)\n",
    "lr_callback = tf.keras.callbacks.LearningRateScheduler(lr_scheduler)\n",
    "\n",
    "early_stop_callback = tf.keras.callbacks.EarlyStopping(monitor='val_acc', patience=cfg.TRAIN.LEN.early_stop)\n",
    "\n",
    "checkpoint_callback = tf.keras.callbacks.ModelCheckpoint(\n",
    "    filepath=os.path.join(cfg.TRAIN.path, 'weights.hdf5'),\n",
    "    save_weights_only=True,\n",
    "    monitor='val_acc',\n",
    "    mode='max',\n",
    "    save_best_only=True)\n",
    "\n",
    "timing_callback = TimingCallback()\n",
    "\n",
    "history_callback = tf.keras.callbacks.CSVLogger(\n",
    "    os.path.join(cfg.TRAIN.path, 'history.csv'), \n",
    "    separator=',', \n",
    "    append=False)\n",
    "\n",
    "model.compile(optimizer=optimizer, loss=loss, metrics=metrics)\n",
    "model.fit(train_X, train_y, validation_data=(val_X, val_y), \n",
    "          epochs=cfg.TRAIN.LEN.num_epoch, \n",
    "          batch_size=cfg.TRAIN.DATA.batch_size,\n",
    "          callbacks=[lr_callback, \n",
    "                     early_stop_callback,\n",
    "                     checkpoint_callback,\n",
    "                     timing_callback,\n",
    "                     history_callback])"
   ]
  },
  {
   "cell_type": "code",
   "execution_count": null,
   "metadata": {},
   "outputs": [
    {
     "name": "stdout",
     "output_type": "stream",
     "text": [
      "Model: \"sequential\"\n",
      "_________________________________________________________________\n",
      " Layer (type)                Output Shape              Param #   \n",
      "=================================================================\n",
      " sequential_1 (Sequential)   (None, 150)               0         \n",
      "                                                                 \n",
      " dense (Dense)               (None, 128)               19328     \n",
      "                                                                 \n",
      " dropout (Dropout)           (None, 128)               0         \n",
      "                                                                 \n",
      " dense_1 (Dense)             (None, 128)               16512     \n",
      "                                                                 \n",
      " dropout_1 (Dropout)         (None, 128)               0         \n",
      "                                                                 \n",
      " dense_2 (Dense)             (None, 5)                 645       \n",
      "                                                                 \n",
      "=================================================================\n",
      "Total params: 36,485\n",
      "Trainable params: 36,485\n",
      "Non-trainable params: 0\n",
      "_________________________________________________________________\n"
     ]
    }
   ],
   "source": [
    "model.summary()"
   ]
  }
 ],
 "metadata": {
  "kernelspec": {
   "display_name": "pdiot",
   "language": "python",
   "name": "python3"
  },
  "language_info": {
   "codemirror_mode": {
    "name": "ipython",
    "version": 3
   },
   "file_extension": ".py",
   "mimetype": "text/x-python",
   "name": "python",
   "nbconvert_exporter": "python",
   "pygments_lexer": "ipython3",
   "version": "3.10.13"
  }
 },
 "nbformat": 4,
 "nbformat_minor": 2
}

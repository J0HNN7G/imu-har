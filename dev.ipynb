{
 "cells": [
  {
   "cell_type": "markdown",
   "metadata": {},
   "source": [
    "# PDIoT Group A1 model"
   ]
  },
  {
   "cell_type": "markdown",
   "metadata": {},
   "source": [
    "### Imports"
   ]
  },
  {
   "cell_type": "code",
   "execution_count": 1,
   "metadata": {},
   "outputs": [
    {
     "name": "stderr",
     "output_type": "stream",
     "text": [
      "2023-11-09 15:13:39.771146: I tensorflow/core/platform/cpu_feature_guard.cc:193] This TensorFlow binary is optimized with oneAPI Deep Neural Network Library (oneDNN) to use the following CPU instructions in performance-critical operations:  SSE4.1 SSE4.2 AVX AVX2 FMA\n",
      "To enable them in other operations, rebuild TensorFlow with the appropriate compiler flags.\n"
     ]
    },
    {
     "name": "stdout",
     "output_type": "stream",
     "text": [
      "All packages imported!\n"
     ]
    }
   ],
   "source": [
    "import os\n",
    "import numpy as np\n",
    "\n",
    "# ml\n",
    "import tensorflow as tf\n",
    "\n",
    "# data\n",
    "from ml.config import cfg\n",
    "from ml.dataset import odgt2data\n",
    "from ml.models import ModelBuilder, OptimizerBuilder, LRScheduleBuilder\n",
    "\n",
    "# logging\n",
    "from tqdm import tqdm\n",
    "\n",
    "print(\"All packages imported!\")"
   ]
  },
  {
   "cell_type": "markdown",
   "metadata": {},
   "source": [
    "### Config"
   ]
  },
  {
   "cell_type": "code",
   "execution_count": 2,
   "metadata": {},
   "outputs": [],
   "source": [
    "config_fp = '/home/jonathan/git/pdiot-ml/cfg/log-motion.yaml'\n",
    "cfg.merge_from_file(config_fp)\n",
    "cfg.DATASET.path = '/home/jonathan/git/pdiot-ml/data/sets/pdiot-data/'\n",
    "cfg.TRAIN.path = '/home/jonathan/git/pdiot-ml/ckpt/log-motion/'    "
   ]
  },
  {
   "cell_type": "markdown",
   "metadata": {},
   "source": [
    "### Data"
   ]
  },
  {
   "cell_type": "code",
   "execution_count": 3,
   "metadata": {},
   "outputs": [],
   "source": [
    "train_odgt_fp = os.path.join(cfg.DATASET.path, cfg.DATASET.LIST.train)\n",
    "val_odgt_fp = os.path.join(cfg.DATASET.path, cfg.DATASET.LIST.val)\n",
    "\n",
    "train_X, train_y = odgt2data(train_odgt_fp, cfg.MODEL.INPUT.window_size, cfg.TRAIN.DATA.overlap_size)\n",
    "val_X, val_y = odgt2data(val_odgt_fp, cfg.MODEL.INPUT.window_size, cfg.TRAIN.DATA.overlap_size)"
   ]
  },
  {
   "cell_type": "markdown",
   "metadata": {},
   "source": [
    "### Model"
   ]
  },
  {
   "cell_type": "code",
   "execution_count": 4,
   "metadata": {},
   "outputs": [
    {
     "name": "stdout",
     "output_type": "stream",
     "text": [
      "Epoch 1/100\n"
     ]
    },
    {
     "name": "stderr",
     "output_type": "stream",
     "text": [
      "2023-11-09 15:13:45.134835: I tensorflow/core/platform/cpu_feature_guard.cc:193] This TensorFlow binary is optimized with oneAPI Deep Neural Network Library (oneDNN) to use the following CPU instructions in performance-critical operations:  SSE4.1 SSE4.2 AVX AVX2 FMA\n",
      "To enable them in other operations, rebuild TensorFlow with the appropriate compiler flags.\n",
      "2023-11-09 15:13:45.137015: I tensorflow/core/common_runtime/process_util.cc:146] Creating new thread pool with default inter op setting: 2. Tune using inter_op_parallelism_threads for best performance.\n"
     ]
    },
    {
     "name": "stdout",
     "output_type": "stream",
     "text": [
      "89/89 [==============================] - 1s 10ms/step - loss: 1.6123 - accuracy: 0.6117 - val_loss: 1.0104 - val_accuracy: 0.7483 - lr: 0.0010\n",
      "Epoch 2/100\n",
      "89/89 [==============================] - 1s 8ms/step - loss: 1.1127 - accuracy: 0.7498 - val_loss: 1.1809 - val_accuracy: 0.6755 - lr: 0.0010\n",
      "Epoch 3/100\n",
      "89/89 [==============================] - 0s 4ms/step - loss: 0.8712 - accuracy: 0.8097 - val_loss: 1.0180 - val_accuracy: 0.8079 - lr: 0.0010\n",
      "Epoch 4/100\n",
      "89/89 [==============================] - 1s 7ms/step - loss: 1.0133 - accuracy: 0.8159 - val_loss: 0.8684 - val_accuracy: 0.8013 - lr: 0.0010\n",
      "Epoch 5/100\n",
      "89/89 [==============================] - 0s 5ms/step - loss: 0.8325 - accuracy: 0.8447 - val_loss: 1.5945 - val_accuracy: 0.7351 - lr: 0.0010\n",
      "Epoch 6/100\n",
      "89/89 [==============================] - 0s 5ms/step - loss: 1.0610 - accuracy: 0.8186 - val_loss: 1.0102 - val_accuracy: 0.8477 - lr: 0.0010\n",
      "Epoch 7/100\n",
      "89/89 [==============================] - 1s 7ms/step - loss: 0.8885 - accuracy: 0.8405 - val_loss: 1.0327 - val_accuracy: 0.8742 - lr: 0.0010\n",
      "Epoch 8/100\n",
      "89/89 [==============================] - 1s 9ms/step - loss: 0.9823 - accuracy: 0.8352 - val_loss: 0.7357 - val_accuracy: 0.8609 - lr: 0.0010\n",
      "Epoch 9/100\n",
      "89/89 [==============================] - 1s 6ms/step - loss: 0.7143 - accuracy: 0.8594 - val_loss: 0.7194 - val_accuracy: 0.8874 - lr: 0.0010\n",
      "Epoch 10/100\n",
      "89/89 [==============================] - 1s 8ms/step - loss: 0.7092 - accuracy: 0.8680 - val_loss: 0.9389 - val_accuracy: 0.8146 - lr: 0.0010\n",
      "Epoch 11/100\n",
      "89/89 [==============================] - 1s 6ms/step - loss: 0.6777 - accuracy: 0.8594 - val_loss: 0.8236 - val_accuracy: 0.8609 - lr: 0.0010\n",
      "Epoch 12/100\n",
      "89/89 [==============================] - 1s 8ms/step - loss: 0.7286 - accuracy: 0.8666 - val_loss: 0.8210 - val_accuracy: 0.8609 - lr: 0.0010\n",
      "Epoch 13/100\n",
      "89/89 [==============================] - 1s 6ms/step - loss: 0.7831 - accuracy: 0.8578 - val_loss: 1.3911 - val_accuracy: 0.7881 - lr: 0.0010\n",
      "Epoch 14/100\n",
      "89/89 [==============================] - 1s 7ms/step - loss: 0.8179 - accuracy: 0.8604 - val_loss: 1.0238 - val_accuracy: 0.8344 - lr: 0.0010\n",
      "Epoch 15/100\n",
      "89/89 [==============================] - 1s 9ms/step - loss: 0.7095 - accuracy: 0.8673 - val_loss: 0.8359 - val_accuracy: 0.8477 - lr: 0.0010\n",
      "Epoch 16/100\n",
      "89/89 [==============================] - 1s 10ms/step - loss: 0.7575 - accuracy: 0.8627 - val_loss: 0.8740 - val_accuracy: 0.7947 - lr: 0.0010\n",
      "Epoch 17/100\n",
      "89/89 [==============================] - 1s 10ms/step - loss: 0.6793 - accuracy: 0.8686 - val_loss: 0.6017 - val_accuracy: 0.8940 - lr: 0.0010\n",
      "Epoch 18/100\n",
      "89/89 [==============================] - 1s 10ms/step - loss: 0.7519 - accuracy: 0.8627 - val_loss: 0.8035 - val_accuracy: 0.8808 - lr: 0.0010\n",
      "Epoch 19/100\n",
      "89/89 [==============================] - 1s 6ms/step - loss: 0.7549 - accuracy: 0.8666 - val_loss: 1.0754 - val_accuracy: 0.8146 - lr: 0.0010\n",
      "Epoch 20/100\n",
      "89/89 [==============================] - 1s 6ms/step - loss: 0.7248 - accuracy: 0.8687 - val_loss: 1.1520 - val_accuracy: 0.8079 - lr: 0.0010\n",
      "Epoch 21/100\n",
      "89/89 [==============================] - 1s 8ms/step - loss: 0.8286 - accuracy: 0.8680 - val_loss: 0.8614 - val_accuracy: 0.8609 - lr: 0.0010\n"
     ]
    }
   ],
   "source": [
    "model = ModelBuilder.build_classifier(cfg.MODEL, '', num_classes=2)\n",
    "optimizer = OptimizerBuilder.build_optimizer(cfg.TRAIN.OPTIM)\n",
    "loss = tf.keras.losses.SparseCategoricalCrossentropy()\n",
    "\n",
    "lr_scheduler = LRScheduleBuilder.build_scheduler(cfg.TRAIN.LR)\n",
    "lr_callback = tf.keras.callbacks.LearningRateScheduler(lr_scheduler)\n",
    "\n",
    "early_stop_callback = tf.keras.callbacks.EarlyStopping(monitor='loss', patience=cfg.TRAIN.LEN.early_stop)\n",
    "\n",
    "checkpoint_callback = tf.keras.callbacks.ModelCheckpoint(\n",
    "    filepath=os.path.join(cfg.TRAIN.path, 'weights.hdf5'),\n",
    "    save_weights_only=True,\n",
    "    monitor='val_accuracy',\n",
    "    mode='max',\n",
    "    save_best_only=True)\n",
    "\n",
    "model.compile(optimizer=optimizer, loss=loss, metrics=['accuracy'])\n",
    "history = model.fit(train_X, train_y, validation_data=(val_X, val_y), \n",
    "                    epochs=cfg.TRAIN.LEN.num_epoch, \n",
    "                    batch_size=cfg.TRAIN.DATA.batch_size, \n",
    "                    initial_epoch=cfg.TRAIN.LEN.start_epoch,\n",
    "                    callbacks=[lr_callback, \n",
    "                               early_stop_callback,\n",
    "                               checkpoint_callback])"
   ]
  },
  {
   "cell_type": "code",
   "execution_count": 6,
   "metadata": {},
   "outputs": [],
   "source": [
    "model.load_weights(os.path.join(cfg.TRAIN.path, 'weights.hdf5'))"
   ]
  },
  {
   "cell_type": "code",
   "execution_count": 5,
   "metadata": {},
   "outputs": [
    {
     "data": {
      "text/plain": [
       "<keras.engine.sequential.Sequential at 0x7f9a914efb20>"
      ]
     },
     "execution_count": 5,
     "metadata": {},
     "output_type": "execute_result"
    }
   ],
   "source": [
    "history.model"
   ]
  },
  {
   "cell_type": "code",
   "execution_count": null,
   "metadata": {},
   "outputs": [],
   "source": []
  }
 ],
 "metadata": {
  "kernelspec": {
   "display_name": "pdiot",
   "language": "python",
   "name": "python3"
  },
  "language_info": {
   "codemirror_mode": {
    "name": "ipython",
    "version": 3
   },
   "file_extension": ".py",
   "mimetype": "text/x-python",
   "name": "python",
   "nbconvert_exporter": "python",
   "pygments_lexer": "ipython3",
   "version": "3.10.13"
  }
 },
 "nbformat": 4,
 "nbformat_minor": 2
}

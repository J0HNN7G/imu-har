{
 "cells": [
  {
   "cell_type": "markdown",
   "metadata": {},
   "source": [
    "# PDIoT Group A1 model"
   ]
  },
  {
   "cell_type": "markdown",
   "metadata": {},
   "source": [
    "### Imports"
   ]
  },
  {
   "cell_type": "code",
   "execution_count": 1,
   "metadata": {},
   "outputs": [
    {
     "name": "stderr",
     "output_type": "stream",
     "text": [
      "2023-11-09 12:01:08.504608: I tensorflow/core/platform/cpu_feature_guard.cc:193] This TensorFlow binary is optimized with oneAPI Deep Neural Network Library (oneDNN) to use the following CPU instructions in performance-critical operations:  SSE4.1 SSE4.2 AVX AVX2 FMA\n",
      "To enable them in other operations, rebuild TensorFlow with the appropriate compiler flags.\n"
     ]
    },
    {
     "name": "stdout",
     "output_type": "stream",
     "text": [
      "All packages imported!\n",
      "Random seed set\n"
     ]
    }
   ],
   "source": [
    "import os\n",
    "import numpy as np\n",
    "\n",
    "# ml\n",
    "import tensorflow as tf\n",
    "\n",
    "# data\n",
    "from ml.config import cfg\n",
    "from ml.dataset import odgt2data\n",
    "from ml.models import ModelBuilder, OptimizerBuilder, LRScheduleBuilder\n",
    "\n",
    "# logging\n",
    "from tqdm import tqdm\n",
    "\n",
    "print(\"All packages imported!\")\n",
    "\n",
    "\n",
    "SEED = 42\n",
    "np.random.seed(SEED)\n",
    "tf.random.set_seed(SEED)\n",
    "\n",
    "print(\"Random seed set\")"
   ]
  },
  {
   "cell_type": "markdown",
   "metadata": {},
   "source": [
    "### Config"
   ]
  },
  {
   "cell_type": "code",
   "execution_count": 2,
   "metadata": {},
   "outputs": [],
   "source": [
    "config_fp = '/home/jonathan/git/pdiot-ml/cfg/log-motion.yaml'\n",
    "cfg.merge_from_file(config_fp)\n",
    "cfg.DATASET.path = '/home/jonathan/git/pdiot-ml/data/sets/pdiot-data/'\n",
    "cfg.TRAIN.path = '/home/jonathan/git/pdiot-ml/ckpt/log-motion/'    "
   ]
  },
  {
   "cell_type": "markdown",
   "metadata": {},
   "source": [
    "### Data"
   ]
  },
  {
   "cell_type": "code",
   "execution_count": 3,
   "metadata": {},
   "outputs": [],
   "source": [
    "train_odgt_fp = os.path.join(cfg.DATASET.path, cfg.DATASET.LIST.train)\n",
    "val_odgt_fp = os.path.join(cfg.DATASET.path, cfg.DATASET.LIST.val)\n",
    "\n",
    "train_X, train_y = odgt2data(train_odgt_fp, cfg.MODEL.INPUT.window_size, cfg.TRAIN.DATA.overlap_size, cfg.DATASET.num_classes)\n",
    "val_X, val_y = odgt2data(val_odgt_fp, cfg.MODEL.INPUT.window_size, cfg.TRAIN.DATA.overlap_size, cfg.DATASET.num_classes)"
   ]
  },
  {
   "cell_type": "markdown",
   "metadata": {},
   "source": [
    "### Model"
   ]
  },
  {
   "cell_type": "code",
   "execution_count": 4,
   "metadata": {},
   "outputs": [
    {
     "name": "stdout",
     "output_type": "stream",
     "text": [
      "Epoch 1/100\n"
     ]
    },
    {
     "name": "stderr",
     "output_type": "stream",
     "text": [
      "2023-11-09 12:01:13.847342: I tensorflow/core/platform/cpu_feature_guard.cc:193] This TensorFlow binary is optimized with oneAPI Deep Neural Network Library (oneDNN) to use the following CPU instructions in performance-critical operations:  SSE4.1 SSE4.2 AVX AVX2 FMA\n",
      "To enable them in other operations, rebuild TensorFlow with the appropriate compiler flags.\n",
      "2023-11-09 12:01:13.849056: I tensorflow/core/common_runtime/process_util.cc:146] Creating new thread pool with default inter op setting: 2. Tune using inter_op_parallelism_threads for best performance.\n",
      "/home/jonathan/miniconda3/envs/pdiot/lib/python3.10/site-packages/keras/backend.py:5676: UserWarning: \"`binary_crossentropy` received `from_logits=True`, but the `output` argument was produced by a Sigmoid activation and thus does not represent logits. Was this intended?\n",
      "  output, from_logits = _get_logits(\n"
     ]
    },
    {
     "name": "stdout",
     "output_type": "stream",
     "text": [
      "177/177 [==============================] - 2s 7ms/step - loss: 2.0683 - accuracy: 0.5995 - val_loss: 2.0035 - val_accuracy: 0.5166 - lr: 1.0000e-04\n",
      "Epoch 2/100\n",
      "177/177 [==============================] - 1s 6ms/step - loss: 1.5423 - accuracy: 0.6498 - val_loss: 1.6919 - val_accuracy: 0.5762 - lr: 1.0000e-04\n",
      "Epoch 3/100\n",
      "177/177 [==============================] - 1s 6ms/step - loss: 1.2527 - accuracy: 0.6841 - val_loss: 1.4056 - val_accuracy: 0.6225 - lr: 1.0000e-04\n",
      "Epoch 4/100\n",
      "177/177 [==============================] - 1s 7ms/step - loss: 1.0586 - accuracy: 0.7115 - val_loss: 1.2035 - val_accuracy: 0.6689 - lr: 1.0000e-04\n",
      "Epoch 5/100\n",
      "177/177 [==============================] - 1s 5ms/step - loss: 0.9278 - accuracy: 0.7302 - val_loss: 1.0444 - val_accuracy: 0.7086 - lr: 1.0000e-04\n",
      "Epoch 6/100\n",
      "177/177 [==============================] - 1s 6ms/step - loss: 0.8323 - accuracy: 0.7420 - val_loss: 0.9541 - val_accuracy: 0.7219 - lr: 1.0000e-04\n",
      "Epoch 7/100\n",
      "177/177 [==============================] - 1s 6ms/step - loss: 0.7605 - accuracy: 0.7518 - val_loss: 0.8396 - val_accuracy: 0.7152 - lr: 1.0000e-04\n",
      "Epoch 8/100\n",
      "177/177 [==============================] - 1s 4ms/step - loss: 0.7106 - accuracy: 0.7564 - val_loss: 0.7797 - val_accuracy: 0.7351 - lr: 1.0000e-04\n",
      "Epoch 9/100\n",
      "177/177 [==============================] - 1s 5ms/step - loss: 0.6753 - accuracy: 0.7625 - val_loss: 0.7479 - val_accuracy: 0.7285 - lr: 1.0000e-04\n",
      "Epoch 10/100\n",
      "177/177 [==============================] - 1s 5ms/step - loss: 0.6446 - accuracy: 0.7728 - val_loss: 0.6973 - val_accuracy: 0.7483 - lr: 1.0000e-04\n",
      "Epoch 11/100\n",
      "177/177 [==============================] - 1s 7ms/step - loss: 0.6233 - accuracy: 0.7776 - val_loss: 0.6435 - val_accuracy: 0.7285 - lr: 1.0000e-04\n",
      "Epoch 12/100\n",
      "177/177 [==============================] - 1s 5ms/step - loss: 0.6060 - accuracy: 0.7837 - val_loss: 0.6332 - val_accuracy: 0.7881 - lr: 1.0000e-04\n",
      "Epoch 13/100\n",
      "177/177 [==============================] - 1s 5ms/step - loss: 0.5906 - accuracy: 0.7908 - val_loss: 0.6111 - val_accuracy: 0.7748 - lr: 1.0000e-04\n",
      "Epoch 14/100\n",
      "177/177 [==============================] - 1s 5ms/step - loss: 0.5782 - accuracy: 0.7958 - val_loss: 0.6142 - val_accuracy: 0.7815 - lr: 1.0000e-04\n",
      "Epoch 15/100\n",
      "177/177 [==============================] - 1s 5ms/step - loss: 0.5676 - accuracy: 0.8030 - val_loss: 0.5785 - val_accuracy: 0.8079 - lr: 1.0000e-04\n",
      "Epoch 16/100\n",
      "177/177 [==============================] - 1s 8ms/step - loss: 0.5585 - accuracy: 0.8088 - val_loss: 0.5946 - val_accuracy: 0.7947 - lr: 1.0000e-04\n",
      "Epoch 17/100\n",
      "177/177 [==============================] - 1s 6ms/step - loss: 0.5539 - accuracy: 0.8178 - val_loss: 0.5737 - val_accuracy: 0.8278 - lr: 1.0000e-04\n",
      "Epoch 18/100\n",
      "177/177 [==============================] - 1s 6ms/step - loss: 0.5479 - accuracy: 0.8207 - val_loss: 0.5919 - val_accuracy: 0.8477 - lr: 1.0000e-04\n",
      "Epoch 19/100\n",
      "177/177 [==============================] - 1s 6ms/step - loss: 0.5430 - accuracy: 0.8276 - val_loss: 0.6071 - val_accuracy: 0.8411 - lr: 1.0000e-04\n",
      "Epoch 20/100\n",
      "177/177 [==============================] - 1s 6ms/step - loss: 0.5385 - accuracy: 0.8307 - val_loss: 0.5870 - val_accuracy: 0.8344 - lr: 1.0000e-04\n",
      "Epoch 21/100\n",
      "177/177 [==============================] - 1s 6ms/step - loss: 0.5334 - accuracy: 0.8389 - val_loss: 0.5829 - val_accuracy: 0.8411 - lr: 1.0000e-04\n",
      "Epoch 22/100\n",
      "177/177 [==============================] - 1s 5ms/step - loss: 0.5272 - accuracy: 0.8433 - val_loss: 0.5713 - val_accuracy: 0.8543 - lr: 1.0000e-04\n",
      "Epoch 23/100\n",
      "177/177 [==============================] - 1s 5ms/step - loss: 0.5262 - accuracy: 0.8475 - val_loss: 0.5870 - val_accuracy: 0.8742 - lr: 1.0000e-04\n",
      "Epoch 24/100\n",
      "177/177 [==============================] - 1s 6ms/step - loss: 0.5258 - accuracy: 0.8481 - val_loss: 0.5694 - val_accuracy: 0.8477 - lr: 1.0000e-04\n",
      "Epoch 25/100\n",
      "177/177 [==============================] - 1s 4ms/step - loss: 0.5199 - accuracy: 0.8530 - val_loss: 0.5724 - val_accuracy: 0.8742 - lr: 1.0000e-04\n",
      "Epoch 26/100\n",
      "177/177 [==============================] - 1s 7ms/step - loss: 0.5160 - accuracy: 0.8548 - val_loss: 0.5670 - val_accuracy: 0.8675 - lr: 1.0000e-04\n",
      "Epoch 27/100\n",
      "177/177 [==============================] - 1s 5ms/step - loss: 0.5120 - accuracy: 0.8580 - val_loss: 0.5738 - val_accuracy: 0.8477 - lr: 1.0000e-04\n",
      "Epoch 28/100\n",
      "177/177 [==============================] - 1s 5ms/step - loss: 0.5118 - accuracy: 0.8615 - val_loss: 0.5720 - val_accuracy: 0.8543 - lr: 1.0000e-04\n",
      "Epoch 29/100\n",
      "177/177 [==============================] - 1s 5ms/step - loss: 0.5058 - accuracy: 0.8668 - val_loss: 0.5491 - val_accuracy: 0.8742 - lr: 1.0000e-04\n",
      "Epoch 30/100\n",
      "177/177 [==============================] - 1s 5ms/step - loss: 0.5044 - accuracy: 0.8707 - val_loss: 0.5479 - val_accuracy: 0.8742 - lr: 1.0000e-04\n",
      "Epoch 31/100\n",
      "177/177 [==============================] - 1s 5ms/step - loss: 0.5025 - accuracy: 0.8710 - val_loss: 0.5753 - val_accuracy: 0.8609 - lr: 1.0000e-04\n",
      "Epoch 32/100\n",
      "177/177 [==============================] - 1s 5ms/step - loss: 0.4969 - accuracy: 0.8744 - val_loss: 0.5752 - val_accuracy: 0.8675 - lr: 1.0000e-04\n",
      "Epoch 33/100\n",
      "177/177 [==============================] - 1s 5ms/step - loss: 0.4954 - accuracy: 0.8749 - val_loss: 0.5466 - val_accuracy: 0.8742 - lr: 1.0000e-04\n",
      "Epoch 34/100\n",
      "177/177 [==============================] - 1s 5ms/step - loss: 0.4931 - accuracy: 0.8758 - val_loss: 0.5425 - val_accuracy: 0.8874 - lr: 1.0000e-04\n",
      "Epoch 35/100\n",
      "177/177 [==============================] - 1s 4ms/step - loss: 0.4895 - accuracy: 0.8769 - val_loss: 0.5586 - val_accuracy: 0.8742 - lr: 1.0000e-04\n",
      "Epoch 36/100\n",
      "177/177 [==============================] - 1s 4ms/step - loss: 0.4876 - accuracy: 0.8799 - val_loss: 0.5539 - val_accuracy: 0.8742 - lr: 1.0000e-04\n",
      "Epoch 37/100\n",
      "177/177 [==============================] - 1s 6ms/step - loss: 0.4825 - accuracy: 0.8799 - val_loss: 0.5471 - val_accuracy: 0.8742 - lr: 1.0000e-04\n",
      "Epoch 38/100\n",
      "177/177 [==============================] - 1s 7ms/step - loss: 0.4837 - accuracy: 0.8825 - val_loss: 0.5278 - val_accuracy: 0.8808 - lr: 1.0000e-04\n",
      "Epoch 39/100\n",
      "177/177 [==============================] - 1s 7ms/step - loss: 0.4816 - accuracy: 0.8818 - val_loss: 0.5345 - val_accuracy: 0.8675 - lr: 1.0000e-04\n",
      "Epoch 40/100\n",
      "177/177 [==============================] - 1s 5ms/step - loss: 0.4784 - accuracy: 0.8839 - val_loss: 0.5449 - val_accuracy: 0.8808 - lr: 1.0000e-04\n",
      "Epoch 41/100\n",
      "177/177 [==============================] - 1s 5ms/step - loss: 0.4685 - accuracy: 0.8857 - val_loss: 0.5405 - val_accuracy: 0.8742 - lr: 1.0000e-05\n",
      "Epoch 42/100\n",
      "177/177 [==============================] - 1s 6ms/step - loss: 0.4663 - accuracy: 0.8848 - val_loss: 0.5371 - val_accuracy: 0.8742 - lr: 1.0000e-05\n",
      "Epoch 43/100\n",
      "177/177 [==============================] - 1s 5ms/step - loss: 0.4654 - accuracy: 0.8850 - val_loss: 0.5346 - val_accuracy: 0.8742 - lr: 1.0000e-05\n",
      "Epoch 44/100\n",
      "177/177 [==============================] - 1s 6ms/step - loss: 0.4649 - accuracy: 0.8857 - val_loss: 0.5319 - val_accuracy: 0.8808 - lr: 1.0000e-05\n",
      "Epoch 45/100\n",
      "177/177 [==============================] - 1s 6ms/step - loss: 0.4644 - accuracy: 0.8853 - val_loss: 0.5310 - val_accuracy: 0.8808 - lr: 1.0000e-05\n",
      "Epoch 46/100\n",
      "177/177 [==============================] - 1s 7ms/step - loss: 0.4640 - accuracy: 0.8850 - val_loss: 0.5300 - val_accuracy: 0.8808 - lr: 1.0000e-05\n",
      "Epoch 47/100\n",
      "177/177 [==============================] - 1s 6ms/step - loss: 0.4638 - accuracy: 0.8852 - val_loss: 0.5307 - val_accuracy: 0.8808 - lr: 1.0000e-05\n",
      "Epoch 48/100\n",
      "177/177 [==============================] - 2s 9ms/step - loss: 0.4635 - accuracy: 0.8853 - val_loss: 0.5294 - val_accuracy: 0.8808 - lr: 1.0000e-05\n",
      "Epoch 49/100\n",
      "177/177 [==============================] - 1s 5ms/step - loss: 0.4633 - accuracy: 0.8853 - val_loss: 0.5286 - val_accuracy: 0.8808 - lr: 1.0000e-05\n",
      "Epoch 50/100\n",
      "177/177 [==============================] - 1s 5ms/step - loss: 0.4629 - accuracy: 0.8843 - val_loss: 0.5278 - val_accuracy: 0.8808 - lr: 1.0000e-05\n",
      "Epoch 51/100\n",
      "177/177 [==============================] - 1s 6ms/step - loss: 0.4628 - accuracy: 0.8859 - val_loss: 0.5271 - val_accuracy: 0.8808 - lr: 1.0000e-05\n",
      "Epoch 52/100\n",
      "177/177 [==============================] - 1s 5ms/step - loss: 0.4624 - accuracy: 0.8845 - val_loss: 0.5267 - val_accuracy: 0.8808 - lr: 1.0000e-05\n",
      "Epoch 53/100\n",
      "177/177 [==============================] - 1s 6ms/step - loss: 0.4622 - accuracy: 0.8850 - val_loss: 0.5255 - val_accuracy: 0.8808 - lr: 1.0000e-05\n",
      "Epoch 54/100\n",
      "177/177 [==============================] - 1s 6ms/step - loss: 0.4620 - accuracy: 0.8857 - val_loss: 0.5248 - val_accuracy: 0.8808 - lr: 1.0000e-05\n",
      "Epoch 55/100\n",
      "177/177 [==============================] - 1s 8ms/step - loss: 0.4617 - accuracy: 0.8845 - val_loss: 0.5249 - val_accuracy: 0.8808 - lr: 1.0000e-05\n",
      "Epoch 56/100\n",
      "177/177 [==============================] - 1s 4ms/step - loss: 0.4615 - accuracy: 0.8848 - val_loss: 0.5247 - val_accuracy: 0.8808 - lr: 1.0000e-05\n",
      "Epoch 57/100\n",
      "177/177 [==============================] - 1s 6ms/step - loss: 0.4613 - accuracy: 0.8852 - val_loss: 0.5235 - val_accuracy: 0.8808 - lr: 1.0000e-05\n",
      "Epoch 58/100\n",
      "177/177 [==============================] - 1s 4ms/step - loss: 0.4609 - accuracy: 0.8848 - val_loss: 0.5250 - val_accuracy: 0.8808 - lr: 1.0000e-05\n",
      "Epoch 59/100\n",
      "177/177 [==============================] - 1s 4ms/step - loss: 0.4608 - accuracy: 0.8848 - val_loss: 0.5236 - val_accuracy: 0.8808 - lr: 1.0000e-05\n",
      "Epoch 60/100\n",
      "177/177 [==============================] - 1s 5ms/step - loss: 0.4606 - accuracy: 0.8855 - val_loss: 0.5225 - val_accuracy: 0.8808 - lr: 1.0000e-05\n",
      "Epoch 61/100\n",
      "177/177 [==============================] - 1s 7ms/step - loss: 0.4605 - accuracy: 0.8846 - val_loss: 0.5234 - val_accuracy: 0.8808 - lr: 1.0000e-05\n",
      "Epoch 62/100\n",
      "177/177 [==============================] - 1s 7ms/step - loss: 0.4603 - accuracy: 0.8845 - val_loss: 0.5232 - val_accuracy: 0.8808 - lr: 1.0000e-05\n",
      "Epoch 63/100\n",
      "177/177 [==============================] - 1s 6ms/step - loss: 0.4598 - accuracy: 0.8846 - val_loss: 0.5232 - val_accuracy: 0.8808 - lr: 1.0000e-05\n",
      "Epoch 64/100\n",
      "177/177 [==============================] - 1s 8ms/step - loss: 0.4598 - accuracy: 0.8848 - val_loss: 0.5233 - val_accuracy: 0.8808 - lr: 1.0000e-05\n",
      "Epoch 65/100\n",
      "177/177 [==============================] - 1s 6ms/step - loss: 0.4595 - accuracy: 0.8852 - val_loss: 0.5232 - val_accuracy: 0.8808 - lr: 1.0000e-05\n",
      "Epoch 66/100\n",
      "177/177 [==============================] - 1s 8ms/step - loss: 0.4592 - accuracy: 0.8855 - val_loss: 0.5225 - val_accuracy: 0.8808 - lr: 1.0000e-05\n",
      "Epoch 67/100\n",
      "177/177 [==============================] - 1s 4ms/step - loss: 0.4593 - accuracy: 0.8855 - val_loss: 0.5220 - val_accuracy: 0.8808 - lr: 1.0000e-05\n",
      "Epoch 68/100\n",
      "177/177 [==============================] - 1s 7ms/step - loss: 0.4587 - accuracy: 0.8857 - val_loss: 0.5223 - val_accuracy: 0.8808 - lr: 1.0000e-05\n",
      "Epoch 69/100\n",
      "177/177 [==============================] - 1s 6ms/step - loss: 0.4587 - accuracy: 0.8853 - val_loss: 0.5216 - val_accuracy: 0.8808 - lr: 1.0000e-05\n",
      "Epoch 70/100\n",
      "177/177 [==============================] - 1s 5ms/step - loss: 0.4585 - accuracy: 0.8846 - val_loss: 0.5214 - val_accuracy: 0.8808 - lr: 1.0000e-05\n",
      "Epoch 71/100\n",
      "177/177 [==============================] - 1s 7ms/step - loss: 0.4581 - accuracy: 0.8852 - val_loss: 0.5214 - val_accuracy: 0.8808 - lr: 1.0000e-05\n",
      "Epoch 72/100\n",
      "177/177 [==============================] - 1s 7ms/step - loss: 0.4581 - accuracy: 0.8846 - val_loss: 0.5220 - val_accuracy: 0.8808 - lr: 1.0000e-05\n",
      "Epoch 73/100\n",
      "177/177 [==============================] - 1s 5ms/step - loss: 0.4579 - accuracy: 0.8852 - val_loss: 0.5216 - val_accuracy: 0.8808 - lr: 1.0000e-05\n",
      "Epoch 74/100\n",
      "177/177 [==============================] - 1s 6ms/step - loss: 0.4575 - accuracy: 0.8846 - val_loss: 0.5185 - val_accuracy: 0.8808 - lr: 1.0000e-05\n",
      "Epoch 75/100\n",
      "177/177 [==============================] - 1s 5ms/step - loss: 0.4573 - accuracy: 0.8855 - val_loss: 0.5196 - val_accuracy: 0.8808 - lr: 1.0000e-05\n",
      "Epoch 76/100\n",
      "177/177 [==============================] - 1s 5ms/step - loss: 0.4571 - accuracy: 0.8857 - val_loss: 0.5196 - val_accuracy: 0.8808 - lr: 1.0000e-05\n",
      "Epoch 77/100\n",
      "177/177 [==============================] - 1s 8ms/step - loss: 0.4569 - accuracy: 0.8852 - val_loss: 0.5190 - val_accuracy: 0.8808 - lr: 1.0000e-05\n",
      "Epoch 78/100\n",
      "177/177 [==============================] - 1s 7ms/step - loss: 0.4568 - accuracy: 0.8846 - val_loss: 0.5208 - val_accuracy: 0.8808 - lr: 1.0000e-05\n",
      "Epoch 79/100\n",
      "177/177 [==============================] - 1s 4ms/step - loss: 0.4565 - accuracy: 0.8852 - val_loss: 0.5197 - val_accuracy: 0.8808 - lr: 1.0000e-05\n",
      "Epoch 80/100\n",
      "177/177 [==============================] - 1s 6ms/step - loss: 0.4563 - accuracy: 0.8848 - val_loss: 0.5192 - val_accuracy: 0.8808 - lr: 1.0000e-05\n",
      "Epoch 81/100\n",
      "177/177 [==============================] - 1s 6ms/step - loss: 0.4549 - accuracy: 0.8862 - val_loss: 0.5192 - val_accuracy: 0.8808 - lr: 1.0000e-06\n",
      "Epoch 82/100\n",
      "177/177 [==============================] - 1s 7ms/step - loss: 0.4549 - accuracy: 0.8862 - val_loss: 0.5192 - val_accuracy: 0.8808 - lr: 1.0000e-06\n",
      "Epoch 83/100\n",
      "177/177 [==============================] - 1s 7ms/step - loss: 0.4549 - accuracy: 0.8864 - val_loss: 0.5192 - val_accuracy: 0.8808 - lr: 1.0000e-06\n",
      "Epoch 84/100\n",
      "177/177 [==============================] - 1s 5ms/step - loss: 0.4549 - accuracy: 0.8864 - val_loss: 0.5191 - val_accuracy: 0.8808 - lr: 1.0000e-06\n",
      "Epoch 85/100\n",
      "177/177 [==============================] - 1s 6ms/step - loss: 0.4549 - accuracy: 0.8862 - val_loss: 0.5191 - val_accuracy: 0.8808 - lr: 1.0000e-06\n",
      "Epoch 86/100\n",
      "177/177 [==============================] - 1s 5ms/step - loss: 0.4548 - accuracy: 0.8860 - val_loss: 0.5191 - val_accuracy: 0.8808 - lr: 1.0000e-06\n",
      "Epoch 87/100\n",
      "177/177 [==============================] - 1s 6ms/step - loss: 0.4548 - accuracy: 0.8860 - val_loss: 0.5191 - val_accuracy: 0.8808 - lr: 1.0000e-06\n",
      "Epoch 88/100\n",
      "177/177 [==============================] - 1s 6ms/step - loss: 0.4548 - accuracy: 0.8864 - val_loss: 0.5191 - val_accuracy: 0.8808 - lr: 1.0000e-06\n",
      "Epoch 89/100\n",
      "177/177 [==============================] - 1s 5ms/step - loss: 0.4548 - accuracy: 0.8859 - val_loss: 0.5190 - val_accuracy: 0.8808 - lr: 1.0000e-06\n",
      "Epoch 90/100\n",
      "177/177 [==============================] - 1s 6ms/step - loss: 0.4547 - accuracy: 0.8860 - val_loss: 0.5190 - val_accuracy: 0.8808 - lr: 1.0000e-06\n",
      "Epoch 91/100\n",
      "177/177 [==============================] - 1s 5ms/step - loss: 0.4547 - accuracy: 0.8862 - val_loss: 0.5189 - val_accuracy: 0.8808 - lr: 1.0000e-06\n",
      "Epoch 92/100\n",
      "177/177 [==============================] - 1s 6ms/step - loss: 0.4547 - accuracy: 0.8862 - val_loss: 0.5188 - val_accuracy: 0.8808 - lr: 1.0000e-06\n",
      "Epoch 93/100\n",
      "177/177 [==============================] - 1s 6ms/step - loss: 0.4547 - accuracy: 0.8860 - val_loss: 0.5188 - val_accuracy: 0.8808 - lr: 1.0000e-06\n",
      "Epoch 94/100\n",
      "177/177 [==============================] - 1s 8ms/step - loss: 0.4547 - accuracy: 0.8860 - val_loss: 0.5188 - val_accuracy: 0.8808 - lr: 1.0000e-06\n",
      "Epoch 95/100\n",
      "177/177 [==============================] - 1s 7ms/step - loss: 0.4547 - accuracy: 0.8860 - val_loss: 0.5187 - val_accuracy: 0.8808 - lr: 1.0000e-06\n",
      "Epoch 96/100\n",
      "177/177 [==============================] - 1s 6ms/step - loss: 0.4546 - accuracy: 0.8860 - val_loss: 0.5187 - val_accuracy: 0.8808 - lr: 1.0000e-06\n",
      "Epoch 97/100\n",
      "177/177 [==============================] - 1s 6ms/step - loss: 0.4546 - accuracy: 0.8860 - val_loss: 0.5186 - val_accuracy: 0.8808 - lr: 1.0000e-06\n",
      "Epoch 98/100\n",
      "177/177 [==============================] - 1s 6ms/step - loss: 0.4546 - accuracy: 0.8860 - val_loss: 0.5186 - val_accuracy: 0.8808 - lr: 1.0000e-06\n",
      "Epoch 99/100\n",
      "177/177 [==============================] - 1s 5ms/step - loss: 0.4546 - accuracy: 0.8860 - val_loss: 0.5187 - val_accuracy: 0.8808 - lr: 1.0000e-06\n",
      "Epoch 100/100\n",
      "177/177 [==============================] - 1s 7ms/step - loss: 0.4545 - accuracy: 0.8859 - val_loss: 0.5185 - val_accuracy: 0.8808 - lr: 1.0000e-06\n"
     ]
    },
    {
     "data": {
      "text/plain": [
       "<keras.callbacks.History at 0x7fabebb67af0>"
      ]
     },
     "execution_count": 4,
     "metadata": {},
     "output_type": "execute_result"
    }
   ],
   "source": [
    "model = ModelBuilder.build_classifier(cfg.MODEL, '', num_classes=2)\n",
    "optimizer = OptimizerBuilder.build_optimizer(cfg.TRAIN.OPTIM)\n",
    "loss = tf.keras.losses.BinaryCrossentropy(from_logits=True)\n",
    "\n",
    "lr_scheduler = LRScheduleBuilder.build_scheduler(cfg.TRAIN.LR)\n",
    "lr_callback = tf.keras.callbacks.LearningRateScheduler(lr_scheduler)\n",
    "\n",
    "early_stop_callback = tf.keras.callbacks.EarlyStopping(monitor='loss', patience=cfg.TRAIN.LEN.early_stop)\n",
    "\n",
    "model.compile(optimizer=optimizer, loss=loss, metrics=['accuracy'])\n",
    "model.fit(train_X, train_y, validation_data=(val_X, val_y), \n",
    "          epochs=cfg.TRAIN.LEN.num_epoch, \n",
    "          batch_size=cfg.TRAIN.DATA.batch_size, \n",
    "          initial_epoch=cfg.TRAIN.LEN.start_epoch,\n",
    "          workers=cfg.TRAIN.DATA.num_workers,\n",
    "          callbacks=[lr_callback, \n",
    "                     early_stop_callback])"
   ]
  },
  {
   "cell_type": "code",
   "execution_count": null,
   "metadata": {},
   "outputs": [],
   "source": []
  }
 ],
 "metadata": {
  "kernelspec": {
   "display_name": "pdiot",
   "language": "python",
   "name": "python3"
  },
  "language_info": {
   "codemirror_mode": {
    "name": "ipython",
    "version": 3
   },
   "file_extension": ".py",
   "mimetype": "text/x-python",
   "name": "python",
   "nbconvert_exporter": "python",
   "pygments_lexer": "ipython3",
   "version": "3.10.13"
  }
 },
 "nbformat": 4,
 "nbformat_minor": 2
}

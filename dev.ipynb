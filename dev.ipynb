{
 "cells": [
  {
   "cell_type": "markdown",
   "metadata": {},
   "source": [
    "# PDIoT Group A1 model"
   ]
  },
  {
   "cell_type": "markdown",
   "metadata": {},
   "source": [
    "### Imports"
   ]
  },
  {
   "cell_type": "code",
   "execution_count": 1,
   "metadata": {},
   "outputs": [
    {
     "name": "stderr",
     "output_type": "stream",
     "text": [
      "2023-11-09 16:14:41.709810: I tensorflow/core/platform/cpu_feature_guard.cc:193] This TensorFlow binary is optimized with oneAPI Deep Neural Network Library (oneDNN) to use the following CPU instructions in performance-critical operations:  SSE4.1 SSE4.2 AVX AVX2 FMA\n",
      "To enable them in other operations, rebuild TensorFlow with the appropriate compiler flags.\n"
     ]
    },
    {
     "name": "stdout",
     "output_type": "stream",
     "text": [
      "All packages imported!\n"
     ]
    }
   ],
   "source": [
    "import os\n",
    "import numpy as np\n",
    "import tensorflow as tf\n",
    "\n",
    "from ml.config import cfg\n",
    "from ml.dataset import odgt2data\n",
    "from ml.models import ModelBuilder, OptimizerBuilder, LRScheduleBuilder\n",
    "\n",
    "print(\"All packages imported!\")"
   ]
  },
  {
   "cell_type": "markdown",
   "metadata": {},
   "source": [
    "### Config"
   ]
  },
  {
   "cell_type": "code",
   "execution_count": 2,
   "metadata": {},
   "outputs": [],
   "source": [
    "config_fp = '/home/jonathan/git/pdiot-ml/cfg/log-motion.yaml'\n",
    "cfg.merge_from_file(config_fp)\n",
    "cfg.DATASET.path = '/home/jonathan/git/pdiot-ml/data/sets/pdiot-data/'\n",
    "cfg.TRAIN.path = '/home/jonathan/git/pdiot-ml/ckpt/log-motion/'    "
   ]
  },
  {
   "cell_type": "markdown",
   "metadata": {},
   "source": [
    "### Data"
   ]
  },
  {
   "cell_type": "code",
   "execution_count": 3,
   "metadata": {},
   "outputs": [],
   "source": [
    "train_odgt_fp = os.path.join(cfg.DATASET.path, cfg.DATASET.LIST.train)\n",
    "val_odgt_fp = os.path.join(cfg.DATASET.path, cfg.DATASET.LIST.val)\n",
    "\n",
    "train_X, train_y = odgt2data(train_odgt_fp, cfg.MODEL.INPUT.window_size, \n",
    "                                            cfg.TRAIN.DATA.overlap_size, \n",
    "                                            cfg.DATASET.num_classes)\n",
    "val_X, val_y = odgt2data(val_odgt_fp, cfg.MODEL.INPUT.window_size, \n",
    "                                      cfg.TRAIN.DATA.overlap_size,\n",
    "                                      cfg.DATASET.num_classes)"
   ]
  },
  {
   "cell_type": "markdown",
   "metadata": {},
   "source": [
    "### Model"
   ]
  },
  {
   "cell_type": "code",
   "execution_count": 4,
   "metadata": {},
   "outputs": [
    {
     "name": "stdout",
     "output_type": "stream",
     "text": [
      "Epoch 1/100\n"
     ]
    },
    {
     "name": "stderr",
     "output_type": "stream",
     "text": [
      "2023-11-09 16:14:47.139662: I tensorflow/core/platform/cpu_feature_guard.cc:193] This TensorFlow binary is optimized with oneAPI Deep Neural Network Library (oneDNN) to use the following CPU instructions in performance-critical operations:  SSE4.1 SSE4.2 AVX AVX2 FMA\n",
      "To enable them in other operations, rebuild TensorFlow with the appropriate compiler flags.\n",
      "2023-11-09 16:14:47.141262: I tensorflow/core/common_runtime/process_util.cc:146] Creating new thread pool with default inter op setting: 2. Tune using inter_op_parallelism_threads for best performance.\n"
     ]
    },
    {
     "name": "stdout",
     "output_type": "stream",
     "text": [
      "89/89 [==============================] - 1s 11ms/step - loss: 1.7885 - acc: 0.6392 - prec: 0.6392 - rec: 0.6392 - auc: 0.6554 - val_loss: 1.4160 - val_acc: 0.7086 - val_prec: 0.7086 - val_rec: 0.7086 - val_auc: 0.7233 - lr: 0.0010\n",
      "Epoch 2/100\n",
      "89/89 [==============================] - 1s 8ms/step - loss: 0.9255 - acc: 0.7595 - prec: 0.7595 - rec: 0.7595 - auc: 0.7758 - val_loss: 0.9186 - val_acc: 0.7748 - val_prec: 0.7748 - val_rec: 0.7748 - val_auc: 0.7823 - lr: 0.0010\n",
      "Epoch 3/100\n",
      "89/89 [==============================] - 1s 7ms/step - loss: 0.8326 - acc: 0.8133 - prec: 0.8133 - rec: 0.8133 - auc: 0.8061 - val_loss: 0.6667 - val_acc: 0.8278 - val_prec: 0.8278 - val_rec: 0.8278 - val_auc: 0.8154 - lr: 0.0010\n",
      "Epoch 4/100\n",
      "89/89 [==============================] - 1s 8ms/step - loss: 0.8960 - acc: 0.8230 - prec: 0.8230 - rec: 0.8230 - auc: 0.8146 - val_loss: 0.7374 - val_acc: 0.8675 - val_prec: 0.8675 - val_rec: 0.8675 - val_auc: 0.8517 - lr: 0.0010\n",
      "Epoch 5/100\n",
      "89/89 [==============================] - 1s 7ms/step - loss: 0.7943 - acc: 0.8498 - prec: 0.8498 - rec: 0.8498 - auc: 0.8370 - val_loss: 0.5792 - val_acc: 0.8609 - val_prec: 0.8609 - val_rec: 0.8609 - val_auc: 0.8672 - lr: 0.0010\n",
      "Epoch 6/100\n",
      "89/89 [==============================] - 1s 7ms/step - loss: 0.7692 - acc: 0.8429 - prec: 0.8429 - rec: 0.8429 - auc: 0.8323 - val_loss: 1.3545 - val_acc: 0.7881 - val_prec: 0.7881 - val_rec: 0.7881 - val_auc: 0.8155 - lr: 0.0010\n",
      "Epoch 7/100\n",
      "89/89 [==============================] - 1s 7ms/step - loss: 0.8028 - acc: 0.8528 - prec: 0.8528 - rec: 0.8528 - auc: 0.8444 - val_loss: 0.9815 - val_acc: 0.8477 - val_prec: 0.8477 - val_rec: 0.8477 - val_auc: 0.8365 - lr: 0.0010\n",
      "Epoch 8/100\n",
      "89/89 [==============================] - 1s 8ms/step - loss: 0.8336 - acc: 0.8512 - prec: 0.8512 - rec: 0.8512 - auc: 0.8417 - val_loss: 1.5891 - val_acc: 0.8013 - val_prec: 0.8013 - val_rec: 0.8013 - val_auc: 0.8279 - lr: 0.0010\n",
      "Epoch 9/100\n",
      "89/89 [==============================] - 1s 8ms/step - loss: 0.8577 - acc: 0.8519 - prec: 0.8519 - rec: 0.8519 - auc: 0.8438 - val_loss: 1.0695 - val_acc: 0.8278 - val_prec: 0.8278 - val_rec: 0.8278 - val_auc: 0.8017 - lr: 0.0010\n",
      "Epoch 10/100\n",
      "89/89 [==============================] - 1s 6ms/step - loss: 0.7602 - acc: 0.8638 - prec: 0.8638 - rec: 0.8638 - auc: 0.8536 - val_loss: 0.9623 - val_acc: 0.8675 - val_prec: 0.8675 - val_rec: 0.8675 - val_auc: 0.8748 - lr: 0.0010\n",
      "Epoch 11/100\n",
      "89/89 [==============================] - 1s 12ms/step - loss: 0.7563 - acc: 0.8620 - prec: 0.8620 - rec: 0.8620 - auc: 0.8600 - val_loss: 1.5264 - val_acc: 0.7748 - val_prec: 0.7748 - val_rec: 0.7748 - val_auc: 0.7926 - lr: 0.0010\n",
      "Epoch 12/100\n",
      "89/89 [==============================] - 1s 9ms/step - loss: 1.4093 - acc: 0.8092 - prec: 0.8092 - rec: 0.8092 - auc: 0.8066 - val_loss: 1.0452 - val_acc: 0.8411 - val_prec: 0.8411 - val_rec: 0.8411 - val_auc: 0.8177 - lr: 0.0010\n",
      "Epoch 13/100\n",
      "89/89 [==============================] - 1s 8ms/step - loss: 0.6496 - acc: 0.8691 - prec: 0.8691 - rec: 0.8691 - auc: 0.8726 - val_loss: 0.6578 - val_acc: 0.8477 - val_prec: 0.8477 - val_rec: 0.8477 - val_auc: 0.8596 - lr: 0.0010\n",
      "Epoch 14/100\n",
      "89/89 [==============================] - 1s 8ms/step - loss: 0.7427 - acc: 0.8627 - prec: 0.8627 - rec: 0.8627 - auc: 0.8588 - val_loss: 1.0599 - val_acc: 0.8411 - val_prec: 0.8411 - val_rec: 0.8411 - val_auc: 0.8298 - lr: 0.0010\n"
     ]
    },
    {
     "data": {
      "text/plain": [
       "<keras.callbacks.History at 0x7fb287bef1c0>"
      ]
     },
     "execution_count": 4,
     "metadata": {},
     "output_type": "execute_result"
    }
   ],
   "source": [
    "model = ModelBuilder.build_classifier(cfg.MODEL, '', cfg.DATASET.num_classes)\n",
    "optimizer = OptimizerBuilder.build_optimizer(cfg.TRAIN.OPTIM)\n",
    "loss = tf.keras.losses.CategoricalCrossentropy()\n",
    "metrics = [\n",
    "    tf.keras.metrics.CategoricalAccuracy(name='acc'),\n",
    "    tf.keras.metrics.Precision(name='prec'),\n",
    "    tf.keras.metrics.Recall(name='rec'),\n",
    "    tf.keras.metrics.AUC(name='auc')\n",
    "]\n",
    "\n",
    "\n",
    "lr_scheduler = LRScheduleBuilder.build_scheduler(cfg.TRAIN.LR)\n",
    "lr_callback = tf.keras.callbacks.LearningRateScheduler(lr_scheduler)\n",
    "\n",
    "early_stop_callback = tf.keras.callbacks.EarlyStopping(monitor='val_acc', patience=cfg.TRAIN.LEN.early_stop)\n",
    "\n",
    "checkpoint_callback = tf.keras.callbacks.ModelCheckpoint(\n",
    "    filepath=os.path.join(cfg.TRAIN.path, 'weights.hdf5'),\n",
    "    save_weights_only=True,\n",
    "    monitor='val_acc',\n",
    "    mode='max',\n",
    "    save_best_only=True)\n",
    "\n",
    "history_callback = tf.keras.callbacks.CSVLogger(\n",
    "    os.path.join(cfg.TRAIN.path, 'history.csv'), \n",
    "    separator=',', \n",
    "    append=False)\n",
    "\n",
    "\n",
    "model.compile(optimizer=optimizer, loss=loss, metrics=metrics)\n",
    "model.fit(train_X, train_y, validation_data=(val_X, val_y), \n",
    "          epochs=cfg.TRAIN.LEN.num_epoch, \n",
    "          batch_size=cfg.TRAIN.DATA.batch_size,\n",
    "          callbacks=[lr_callback, \n",
    "                     early_stop_callback,\n",
    "                     checkpoint_callback,\n",
    "                     history_callback])"
   ]
  }
 ],
 "metadata": {
  "kernelspec": {
   "display_name": "pdiot",
   "language": "python",
   "name": "python3"
  },
  "language_info": {
   "codemirror_mode": {
    "name": "ipython",
    "version": 3
   },
   "file_extension": ".py",
   "mimetype": "text/x-python",
   "name": "python",
   "nbconvert_exporter": "python",
   "pygments_lexer": "ipython3",
   "version": "3.10.13"
  }
 },
 "nbformat": 4,
 "nbformat_minor": 2
}

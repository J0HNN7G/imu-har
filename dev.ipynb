{
 "cells": [
  {
   "cell_type": "markdown",
   "metadata": {},
   "source": [
    "# PDIoT Group A1 model"
   ]
  },
  {
   "cell_type": "markdown",
   "metadata": {},
   "source": [
    "### Imports"
   ]
  },
  {
   "cell_type": "code",
   "execution_count": 1,
   "metadata": {},
   "outputs": [
    {
     "name": "stderr",
     "output_type": "stream",
     "text": [
      "2023-11-09 13:20:13.208244: I tensorflow/core/platform/cpu_feature_guard.cc:193] This TensorFlow binary is optimized with oneAPI Deep Neural Network Library (oneDNN) to use the following CPU instructions in performance-critical operations:  SSE4.1 SSE4.2 AVX AVX2 FMA\n",
      "To enable them in other operations, rebuild TensorFlow with the appropriate compiler flags.\n"
     ]
    },
    {
     "name": "stdout",
     "output_type": "stream",
     "text": [
      "All packages imported!\n",
      "Random seed set\n"
     ]
    }
   ],
   "source": [
    "import os\n",
    "import numpy as np\n",
    "\n",
    "# ml\n",
    "import tensorflow as tf\n",
    "\n",
    "# data\n",
    "from ml.config import cfg\n",
    "from ml.dataset import odgt2data\n",
    "from ml.models import ModelBuilder, OptimizerBuilder, LRScheduleBuilder\n",
    "\n",
    "# logging\n",
    "from tqdm import tqdm\n",
    "\n",
    "print(\"All packages imported!\")"
   ]
  },
  {
   "cell_type": "markdown",
   "metadata": {},
   "source": [
    "### Config"
   ]
  },
  {
   "cell_type": "code",
   "execution_count": 2,
   "metadata": {},
   "outputs": [],
   "source": [
    "config_fp = '/home/jonathan/git/pdiot-ml/cfg/log-motion.yaml'\n",
    "cfg.merge_from_file(config_fp)\n",
    "cfg.DATASET.path = '/home/jonathan/git/pdiot-ml/data/sets/pdiot-data/'\n",
    "cfg.TRAIN.path = '/home/jonathan/git/pdiot-ml/ckpt/log-motion/'    "
   ]
  },
  {
   "cell_type": "markdown",
   "metadata": {},
   "source": [
    "### Data"
   ]
  },
  {
   "cell_type": "code",
   "execution_count": 3,
   "metadata": {},
   "outputs": [],
   "source": [
    "train_odgt_fp = os.path.join(cfg.DATASET.path, cfg.DATASET.LIST.train)\n",
    "val_odgt_fp = os.path.join(cfg.DATASET.path, cfg.DATASET.LIST.val)\n",
    "\n",
    "train_X, train_y = odgt2data(train_odgt_fp, cfg.MODEL.INPUT.window_size, cfg.TRAIN.DATA.overlap_size, cfg.DATASET.num_classes)\n",
    "val_X, val_y = odgt2data(val_odgt_fp, cfg.MODEL.INPUT.window_size, cfg.TRAIN.DATA.overlap_size, cfg.DATASET.num_classes)"
   ]
  },
  {
   "cell_type": "markdown",
   "metadata": {},
   "source": [
    "### Model"
   ]
  },
  {
   "cell_type": "code",
   "execution_count": 4,
   "metadata": {},
   "outputs": [
    {
     "name": "stdout",
     "output_type": "stream",
     "text": [
      "Epoch 1/100\n"
     ]
    },
    {
     "name": "stderr",
     "output_type": "stream",
     "text": [
      "2023-11-09 13:20:18.655024: I tensorflow/core/platform/cpu_feature_guard.cc:193] This TensorFlow binary is optimized with oneAPI Deep Neural Network Library (oneDNN) to use the following CPU instructions in performance-critical operations:  SSE4.1 SSE4.2 AVX AVX2 FMA\n",
      "To enable them in other operations, rebuild TensorFlow with the appropriate compiler flags.\n",
      "2023-11-09 13:20:18.656437: I tensorflow/core/common_runtime/process_util.cc:146] Creating new thread pool with default inter op setting: 2. Tune using inter_op_parallelism_threads for best performance.\n"
     ]
    },
    {
     "name": "stdout",
     "output_type": "stream",
     "text": [
      "89/89 [==============================] - 1s 8ms/step - loss: 1.6233 - accuracy: 0.6714 - val_loss: 1.2121 - val_accuracy: 0.7020 - lr: 0.0010\n",
      "Epoch 2/100\n",
      "89/89 [==============================] - 0s 5ms/step - loss: 0.9235 - accuracy: 0.7784 - val_loss: 0.7943 - val_accuracy: 0.7881 - lr: 0.0010\n",
      "Epoch 3/100\n",
      "89/89 [==============================] - 1s 7ms/step - loss: 0.8759 - accuracy: 0.8120 - val_loss: 0.7041 - val_accuracy: 0.7881 - lr: 0.0010\n",
      "Epoch 4/100\n",
      "89/89 [==============================] - 0s 5ms/step - loss: 1.0466 - accuracy: 0.8041 - val_loss: 0.9131 - val_accuracy: 0.8212 - lr: 0.0010\n",
      "Epoch 5/100\n",
      "89/89 [==============================] - 0s 4ms/step - loss: 0.8608 - accuracy: 0.8440 - val_loss: 1.0806 - val_accuracy: 0.8079 - lr: 0.0010\n",
      "Epoch 6/100\n",
      "89/89 [==============================] - 1s 6ms/step - loss: 0.9263 - accuracy: 0.8357 - val_loss: 1.2606 - val_accuracy: 0.7682 - lr: 0.0010\n",
      "Epoch 7/100\n",
      "89/89 [==============================] - 1s 7ms/step - loss: 0.7297 - accuracy: 0.8569 - val_loss: 0.6918 - val_accuracy: 0.8808 - lr: 0.0010\n",
      "Epoch 8/100\n",
      "89/89 [==============================] - 0s 6ms/step - loss: 0.7311 - accuracy: 0.8631 - val_loss: 0.9063 - val_accuracy: 0.8278 - lr: 0.0010\n",
      "Epoch 9/100\n",
      "89/89 [==============================] - 1s 7ms/step - loss: 0.7206 - accuracy: 0.8634 - val_loss: 0.8104 - val_accuracy: 0.9007 - lr: 0.0010\n",
      "Epoch 10/100\n",
      "89/89 [==============================] - 1s 8ms/step - loss: 0.7016 - accuracy: 0.8613 - val_loss: 0.6791 - val_accuracy: 0.8742 - lr: 0.0010\n",
      "Epoch 11/100\n",
      "89/89 [==============================] - 1s 6ms/step - loss: 0.7057 - accuracy: 0.8625 - val_loss: 0.9197 - val_accuracy: 0.8344 - lr: 0.0010\n",
      "Epoch 12/100\n",
      "89/89 [==============================] - 0s 5ms/step - loss: 0.8084 - accuracy: 0.8657 - val_loss: 0.7182 - val_accuracy: 0.9073 - lr: 0.0010\n",
      "Epoch 13/100\n",
      "89/89 [==============================] - 0s 4ms/step - loss: 0.6757 - accuracy: 0.8746 - val_loss: 0.8758 - val_accuracy: 0.8609 - lr: 0.0010\n",
      "Epoch 14/100\n",
      "89/89 [==============================] - 0s 4ms/step - loss: 0.6669 - accuracy: 0.8696 - val_loss: 0.6499 - val_accuracy: 0.8808 - lr: 0.0010\n",
      "Epoch 15/100\n",
      "89/89 [==============================] - 0s 5ms/step - loss: 0.7110 - accuracy: 0.8680 - val_loss: 0.5358 - val_accuracy: 0.8609 - lr: 0.0010\n",
      "Epoch 16/100\n",
      "89/89 [==============================] - 0s 5ms/step - loss: 0.6953 - accuracy: 0.8749 - val_loss: 0.8653 - val_accuracy: 0.8742 - lr: 0.0010\n",
      "Epoch 17/100\n",
      "89/89 [==============================] - 1s 7ms/step - loss: 0.9043 - accuracy: 0.8571 - val_loss: 0.5981 - val_accuracy: 0.8874 - lr: 0.0010\n",
      "Epoch 18/100\n",
      "89/89 [==============================] - 1s 7ms/step - loss: 0.6232 - accuracy: 0.8742 - val_loss: 1.1738 - val_accuracy: 0.8278 - lr: 0.0010\n",
      "Epoch 19/100\n",
      "89/89 [==============================] - 1s 8ms/step - loss: 0.7442 - accuracy: 0.8698 - val_loss: 1.1025 - val_accuracy: 0.8411 - lr: 0.0010\n",
      "Epoch 20/100\n",
      "89/89 [==============================] - 0s 5ms/step - loss: 0.6733 - accuracy: 0.8693 - val_loss: 0.7419 - val_accuracy: 0.8411 - lr: 0.0010\n",
      "Epoch 21/100\n",
      "89/89 [==============================] - 1s 8ms/step - loss: 0.6745 - accuracy: 0.8698 - val_loss: 0.7669 - val_accuracy: 0.8808 - lr: 0.0010\n",
      "Epoch 22/100\n",
      "89/89 [==============================] - 1s 8ms/step - loss: 0.6242 - accuracy: 0.8797 - val_loss: 0.8122 - val_accuracy: 0.8940 - lr: 0.0010\n",
      "Epoch 23/100\n",
      "89/89 [==============================] - 0s 4ms/step - loss: 0.6820 - accuracy: 0.8719 - val_loss: 0.7422 - val_accuracy: 0.8675 - lr: 0.0010\n",
      "Epoch 24/100\n",
      "89/89 [==============================] - 0s 4ms/step - loss: 0.6500 - accuracy: 0.8761 - val_loss: 0.9084 - val_accuracy: 0.8411 - lr: 0.0010\n",
      "Epoch 25/100\n",
      "89/89 [==============================] - 1s 6ms/step - loss: 0.8087 - accuracy: 0.8723 - val_loss: 0.8106 - val_accuracy: 0.8742 - lr: 0.0010\n",
      "Epoch 26/100\n",
      "89/89 [==============================] - 0s 4ms/step - loss: 0.6924 - accuracy: 0.8705 - val_loss: 0.7471 - val_accuracy: 0.8609 - lr: 0.0010\n",
      "Epoch 27/100\n",
      "89/89 [==============================] - 0s 5ms/step - loss: 0.7366 - accuracy: 0.8726 - val_loss: 1.1775 - val_accuracy: 0.8146 - lr: 0.0010\n",
      "Epoch 28/100\n",
      "89/89 [==============================] - 1s 6ms/step - loss: 0.7797 - accuracy: 0.8760 - val_loss: 0.9666 - val_accuracy: 0.8344 - lr: 0.0010\n"
     ]
    }
   ],
   "source": [
    "model = ModelBuilder.build_classifier(cfg.MODEL, '', num_classes=2)\n",
    "optimizer = OptimizerBuilder.build_optimizer(cfg.TRAIN.OPTIM)\n",
    "loss = tf.keras.losses.SparseCategoricalCrossentropy()\n",
    "\n",
    "lr_scheduler = LRScheduleBuilder.build_scheduler(cfg.TRAIN.LR)\n",
    "lr_callback = tf.keras.callbacks.LearningRateScheduler(lr_scheduler)\n",
    "\n",
    "early_stop_callback = tf.keras.callbacks.EarlyStopping(monitor='loss', patience=cfg.TRAIN.LEN.early_stop)\n",
    "\n",
    "model.compile(optimizer=optimizer, loss=loss, metrics=['accuracy'])\n",
    "history = model.fit(train_X, train_y, validation_data=(val_X, val_y), \n",
    "                    epochs=cfg.TRAIN.LEN.num_epoch, \n",
    "                    batch_size=cfg.TRAIN.DATA.batch_size, \n",
    "                    initial_epoch=cfg.TRAIN.LEN.start_epoch,\n",
    "                    workers=cfg.TRAIN.DATA.num_workers,\n",
    "                    callbacks=[lr_callback, \n",
    "                               early_stop_callback])"
   ]
  },
  {
   "cell_type": "code",
   "execution_count": 5,
   "metadata": {},
   "outputs": [
    {
     "data": {
      "text/plain": [
       "<keras.engine.sequential.Sequential at 0x7f65942624d0>"
      ]
     },
     "execution_count": 5,
     "metadata": {},
     "output_type": "execute_result"
    }
   ],
   "source": [
    "history.model"
   ]
  },
  {
   "cell_type": "code",
   "execution_count": null,
   "metadata": {},
   "outputs": [],
   "source": []
  }
 ],
 "metadata": {
  "kernelspec": {
   "display_name": "pdiot",
   "language": "python",
   "name": "python3"
  },
  "language_info": {
   "codemirror_mode": {
    "name": "ipython",
    "version": 3
   },
   "file_extension": ".py",
   "mimetype": "text/x-python",
   "name": "python",
   "nbconvert_exporter": "python",
   "pygments_lexer": "ipython3",
   "version": "3.10.13"
  }
 },
 "nbformat": 4,
 "nbformat_minor": 2
}

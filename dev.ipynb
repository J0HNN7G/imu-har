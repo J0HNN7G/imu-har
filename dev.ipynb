{
 "cells": [
  {
   "cell_type": "markdown",
   "metadata": {},
   "source": [
    "# PDIoT Group A1 model"
   ]
  },
  {
   "cell_type": "markdown",
   "metadata": {},
   "source": [
    "### Imports"
   ]
  },
  {
   "cell_type": "code",
   "execution_count": 1,
   "metadata": {},
   "outputs": [
    {
     "name": "stderr",
     "output_type": "stream",
     "text": [
      "2023-11-09 12:48:35.082710: I tensorflow/core/platform/cpu_feature_guard.cc:193] This TensorFlow binary is optimized with oneAPI Deep Neural Network Library (oneDNN) to use the following CPU instructions in performance-critical operations:  SSE4.1 SSE4.2 AVX AVX2 FMA\n",
      "To enable them in other operations, rebuild TensorFlow with the appropriate compiler flags.\n"
     ]
    },
    {
     "name": "stdout",
     "output_type": "stream",
     "text": [
      "All packages imported!\n",
      "Random seed set\n"
     ]
    }
   ],
   "source": [
    "import os\n",
    "import numpy as np\n",
    "\n",
    "# ml\n",
    "import tensorflow as tf\n",
    "\n",
    "# data\n",
    "from ml.config import cfg\n",
    "from ml.dataset import odgt2data\n",
    "from ml.models import ModelBuilder, OptimizerBuilder, LRScheduleBuilder\n",
    "\n",
    "# logging\n",
    "from tqdm import tqdm\n",
    "\n",
    "print(\"All packages imported!\")\n",
    "\n",
    "\n",
    "SEED = 42\n",
    "np.random.seed(SEED)\n",
    "tf.random.set_seed(SEED)\n",
    "\n",
    "print(\"Random seed set\")"
   ]
  },
  {
   "cell_type": "markdown",
   "metadata": {},
   "source": [
    "### Config"
   ]
  },
  {
   "cell_type": "code",
   "execution_count": 2,
   "metadata": {},
   "outputs": [],
   "source": [
    "config_fp = '/home/jonathan/git/pdiot-ml/cfg/log-motion.yaml'\n",
    "cfg.merge_from_file(config_fp)\n",
    "cfg.DATASET.path = '/home/jonathan/git/pdiot-ml/data/sets/pdiot-data/'\n",
    "cfg.TRAIN.path = '/home/jonathan/git/pdiot-ml/ckpt/log-motion/'    "
   ]
  },
  {
   "cell_type": "markdown",
   "metadata": {},
   "source": [
    "### Data"
   ]
  },
  {
   "cell_type": "code",
   "execution_count": 3,
   "metadata": {},
   "outputs": [],
   "source": [
    "train_odgt_fp = os.path.join(cfg.DATASET.path, cfg.DATASET.LIST.train)\n",
    "val_odgt_fp = os.path.join(cfg.DATASET.path, cfg.DATASET.LIST.val)\n",
    "\n",
    "train_X, train_y = odgt2data(train_odgt_fp, cfg.MODEL.INPUT.window_size, cfg.TRAIN.DATA.overlap_size, cfg.DATASET.num_classes)\n",
    "val_X, val_y = odgt2data(val_odgt_fp, cfg.MODEL.INPUT.window_size, cfg.TRAIN.DATA.overlap_size, cfg.DATASET.num_classes)"
   ]
  },
  {
   "cell_type": "markdown",
   "metadata": {},
   "source": [
    "### Model"
   ]
  },
  {
   "cell_type": "code",
   "execution_count": 4,
   "metadata": {},
   "outputs": [
    {
     "name": "stdout",
     "output_type": "stream",
     "text": [
      "Epoch 1/100\n"
     ]
    },
    {
     "name": "stderr",
     "output_type": "stream",
     "text": [
      "2023-11-09 12:48:40.318641: I tensorflow/core/platform/cpu_feature_guard.cc:193] This TensorFlow binary is optimized with oneAPI Deep Neural Network Library (oneDNN) to use the following CPU instructions in performance-critical operations:  SSE4.1 SSE4.2 AVX AVX2 FMA\n",
      "To enable them in other operations, rebuild TensorFlow with the appropriate compiler flags.\n",
      "2023-11-09 12:48:40.320189: I tensorflow/core/common_runtime/process_util.cc:146] Creating new thread pool with default inter op setting: 2. Tune using inter_op_parallelism_threads for best performance.\n"
     ]
    },
    {
     "name": "stdout",
     "output_type": "stream",
     "text": [
      "89/89 [==============================] - 1s 9ms/step - loss: 2.0705 - accuracy: 0.6072 - val_loss: 1.9958 - val_accuracy: 0.6093 - lr: 0.0010\n",
      "Epoch 2/100\n",
      "89/89 [==============================] - 1s 6ms/step - loss: 1.4675 - accuracy: 0.6594 - val_loss: 1.5713 - val_accuracy: 0.6887 - lr: 0.0010\n",
      "Epoch 3/100\n",
      "89/89 [==============================] - 1s 6ms/step - loss: 1.1837 - accuracy: 0.7005 - val_loss: 1.2195 - val_accuracy: 0.7020 - lr: 0.0010\n",
      "Epoch 4/100\n",
      "89/89 [==============================] - 0s 5ms/step - loss: 0.9966 - accuracy: 0.7267 - val_loss: 0.9961 - val_accuracy: 0.7616 - lr: 0.0010\n",
      "Epoch 5/100\n",
      "89/89 [==============================] - 1s 6ms/step - loss: 0.8572 - accuracy: 0.7571 - val_loss: 0.8606 - val_accuracy: 0.8212 - lr: 0.0010\n",
      "Epoch 6/100\n",
      "89/89 [==============================] - 0s 5ms/step - loss: 0.7521 - accuracy: 0.7890 - val_loss: 0.7954 - val_accuracy: 0.8675 - lr: 0.0010\n",
      "Epoch 7/100\n",
      "89/89 [==============================] - 0s 4ms/step - loss: 0.6728 - accuracy: 0.8267 - val_loss: 0.7139 - val_accuracy: 0.8874 - lr: 0.0010\n",
      "Epoch 8/100\n",
      "89/89 [==============================] - 0s 4ms/step - loss: 0.6086 - accuracy: 0.8509 - val_loss: 0.6739 - val_accuracy: 0.8940 - lr: 0.0010\n",
      "Epoch 9/100\n",
      "89/89 [==============================] - 0s 5ms/step - loss: 0.5619 - accuracy: 0.8680 - val_loss: 0.6480 - val_accuracy: 0.8874 - lr: 0.0010\n",
      "Epoch 10/100\n",
      "89/89 [==============================] - 1s 6ms/step - loss: 0.5233 - accuracy: 0.8792 - val_loss: 0.5947 - val_accuracy: 0.8742 - lr: 0.0010\n",
      "Epoch 11/100\n",
      "89/89 [==============================] - 1s 6ms/step - loss: 0.4985 - accuracy: 0.8850 - val_loss: 0.5457 - val_accuracy: 0.9007 - lr: 0.0010\n",
      "Epoch 12/100\n",
      "89/89 [==============================] - 1s 8ms/step - loss: 0.4749 - accuracy: 0.8876 - val_loss: 0.5205 - val_accuracy: 0.9007 - lr: 0.0010\n",
      "Epoch 13/100\n",
      "89/89 [==============================] - 1s 7ms/step - loss: 0.4595 - accuracy: 0.8901 - val_loss: 0.5230 - val_accuracy: 0.8874 - lr: 0.0010\n",
      "Epoch 14/100\n",
      "89/89 [==============================] - 1s 7ms/step - loss: 0.4462 - accuracy: 0.8898 - val_loss: 0.5015 - val_accuracy: 0.8940 - lr: 0.0010\n",
      "Epoch 15/100\n",
      "89/89 [==============================] - 1s 8ms/step - loss: 0.4340 - accuracy: 0.8912 - val_loss: 0.5014 - val_accuracy: 0.8940 - lr: 0.0010\n",
      "Epoch 16/100\n",
      "89/89 [==============================] - 1s 6ms/step - loss: 0.4238 - accuracy: 0.8906 - val_loss: 0.4974 - val_accuracy: 0.8940 - lr: 0.0010\n",
      "Epoch 17/100\n",
      "89/89 [==============================] - 0s 4ms/step - loss: 0.4167 - accuracy: 0.8899 - val_loss: 0.4520 - val_accuracy: 0.8874 - lr: 0.0010\n",
      "Epoch 18/100\n",
      "89/89 [==============================] - 1s 10ms/step - loss: 0.4092 - accuracy: 0.8883 - val_loss: 0.4913 - val_accuracy: 0.8874 - lr: 0.0010\n",
      "Epoch 19/100\n",
      "89/89 [==============================] - 1s 6ms/step - loss: 0.4042 - accuracy: 0.8896 - val_loss: 0.5114 - val_accuracy: 0.8874 - lr: 0.0010\n",
      "Epoch 20/100\n",
      "89/89 [==============================] - 1s 6ms/step - loss: 0.3961 - accuracy: 0.8924 - val_loss: 0.4696 - val_accuracy: 0.8940 - lr: 0.0010\n",
      "Epoch 21/100\n",
      "89/89 [==============================] - 1s 6ms/step - loss: 0.3922 - accuracy: 0.8889 - val_loss: 0.4737 - val_accuracy: 0.8808 - lr: 0.0010\n",
      "Epoch 22/100\n",
      "89/89 [==============================] - 1s 8ms/step - loss: 0.3824 - accuracy: 0.8905 - val_loss: 0.4449 - val_accuracy: 0.9007 - lr: 0.0010\n",
      "Epoch 23/100\n",
      "89/89 [==============================] - 1s 8ms/step - loss: 0.3822 - accuracy: 0.8919 - val_loss: 0.4488 - val_accuracy: 0.9073 - lr: 0.0010\n",
      "Epoch 24/100\n",
      "89/89 [==============================] - 1s 7ms/step - loss: 0.3844 - accuracy: 0.8915 - val_loss: 0.4312 - val_accuracy: 0.8874 - lr: 0.0010\n",
      "Epoch 25/100\n",
      "89/89 [==============================] - 1s 9ms/step - loss: 0.3747 - accuracy: 0.8943 - val_loss: 0.4454 - val_accuracy: 0.8940 - lr: 0.0010\n",
      "Epoch 26/100\n",
      "89/89 [==============================] - 1s 8ms/step - loss: 0.3699 - accuracy: 0.8913 - val_loss: 0.4561 - val_accuracy: 0.8874 - lr: 0.0010\n",
      "Epoch 27/100\n",
      "89/89 [==============================] - 1s 9ms/step - loss: 0.3614 - accuracy: 0.8908 - val_loss: 0.4485 - val_accuracy: 0.8874 - lr: 0.0010\n",
      "Epoch 28/100\n",
      "89/89 [==============================] - 1s 8ms/step - loss: 0.3626 - accuracy: 0.8920 - val_loss: 0.4477 - val_accuracy: 0.8874 - lr: 0.0010\n",
      "Epoch 29/100\n",
      "89/89 [==============================] - 1s 7ms/step - loss: 0.3577 - accuracy: 0.8947 - val_loss: 0.4211 - val_accuracy: 0.8940 - lr: 0.0010\n",
      "Epoch 30/100\n",
      "89/89 [==============================] - 1s 9ms/step - loss: 0.3546 - accuracy: 0.8903 - val_loss: 0.4102 - val_accuracy: 0.8874 - lr: 0.0010\n",
      "Epoch 31/100\n",
      "89/89 [==============================] - 1s 7ms/step - loss: 0.3513 - accuracy: 0.8905 - val_loss: 0.4366 - val_accuracy: 0.8874 - lr: 0.0010\n",
      "Epoch 32/100\n",
      "89/89 [==============================] - 1s 6ms/step - loss: 0.3468 - accuracy: 0.8929 - val_loss: 0.4494 - val_accuracy: 0.8808 - lr: 0.0010\n",
      "Epoch 33/100\n",
      "89/89 [==============================] - 1s 6ms/step - loss: 0.3443 - accuracy: 0.8929 - val_loss: 0.4088 - val_accuracy: 0.8874 - lr: 0.0010\n",
      "Epoch 34/100\n",
      "89/89 [==============================] - 1s 7ms/step - loss: 0.3439 - accuracy: 0.8903 - val_loss: 0.4137 - val_accuracy: 0.8874 - lr: 0.0010\n",
      "Epoch 35/100\n",
      "89/89 [==============================] - 1s 9ms/step - loss: 0.3386 - accuracy: 0.8920 - val_loss: 0.4362 - val_accuracy: 0.8874 - lr: 0.0010\n",
      "Epoch 36/100\n",
      "89/89 [==============================] - 1s 7ms/step - loss: 0.3356 - accuracy: 0.8956 - val_loss: 0.4293 - val_accuracy: 0.8874 - lr: 0.0010\n",
      "Epoch 37/100\n",
      "89/89 [==============================] - 1s 7ms/step - loss: 0.3303 - accuracy: 0.8924 - val_loss: 0.4131 - val_accuracy: 0.8874 - lr: 0.0010\n",
      "Epoch 38/100\n",
      "89/89 [==============================] - 1s 6ms/step - loss: 0.3307 - accuracy: 0.8933 - val_loss: 0.3827 - val_accuracy: 0.8874 - lr: 0.0010\n",
      "Epoch 39/100\n",
      "89/89 [==============================] - 1s 6ms/step - loss: 0.3302 - accuracy: 0.8945 - val_loss: 0.3931 - val_accuracy: 0.8874 - lr: 0.0010\n",
      "Epoch 40/100\n",
      "89/89 [==============================] - 0s 5ms/step - loss: 0.3287 - accuracy: 0.8943 - val_loss: 0.4335 - val_accuracy: 0.8874 - lr: 0.0010\n",
      "Epoch 41/100\n",
      "89/89 [==============================] - 1s 7ms/step - loss: 0.3143 - accuracy: 0.8933 - val_loss: 0.4277 - val_accuracy: 0.8874 - lr: 1.0000e-04\n",
      "Epoch 42/100\n",
      "89/89 [==============================] - 1s 6ms/step - loss: 0.3119 - accuracy: 0.8938 - val_loss: 0.4229 - val_accuracy: 0.8874 - lr: 1.0000e-04\n",
      "Epoch 43/100\n",
      "89/89 [==============================] - 1s 9ms/step - loss: 0.3111 - accuracy: 0.8938 - val_loss: 0.4174 - val_accuracy: 0.8874 - lr: 1.0000e-04\n",
      "Epoch 44/100\n",
      "89/89 [==============================] - 1s 6ms/step - loss: 0.3104 - accuracy: 0.8947 - val_loss: 0.4130 - val_accuracy: 0.8874 - lr: 1.0000e-04\n",
      "Epoch 45/100\n",
      "89/89 [==============================] - 1s 6ms/step - loss: 0.3099 - accuracy: 0.8938 - val_loss: 0.4121 - val_accuracy: 0.8874 - lr: 1.0000e-04\n",
      "Epoch 46/100\n",
      "89/89 [==============================] - 1s 8ms/step - loss: 0.3095 - accuracy: 0.8949 - val_loss: 0.4089 - val_accuracy: 0.8874 - lr: 1.0000e-04\n",
      "Epoch 47/100\n",
      "89/89 [==============================] - 1s 7ms/step - loss: 0.3094 - accuracy: 0.8943 - val_loss: 0.4096 - val_accuracy: 0.8874 - lr: 1.0000e-04\n",
      "Epoch 48/100\n",
      "89/89 [==============================] - 1s 6ms/step - loss: 0.3089 - accuracy: 0.8947 - val_loss: 0.4079 - val_accuracy: 0.8874 - lr: 1.0000e-04\n",
      "Epoch 49/100\n",
      "89/89 [==============================] - 1s 7ms/step - loss: 0.3089 - accuracy: 0.8935 - val_loss: 0.4074 - val_accuracy: 0.8874 - lr: 1.0000e-04\n",
      "Epoch 50/100\n",
      "89/89 [==============================] - 1s 6ms/step - loss: 0.3086 - accuracy: 0.8942 - val_loss: 0.4059 - val_accuracy: 0.8874 - lr: 1.0000e-04\n",
      "Epoch 51/100\n",
      "89/89 [==============================] - 1s 6ms/step - loss: 0.3084 - accuracy: 0.8947 - val_loss: 0.4054 - val_accuracy: 0.8874 - lr: 1.0000e-04\n",
      "Epoch 52/100\n",
      "89/89 [==============================] - 1s 6ms/step - loss: 0.3080 - accuracy: 0.8936 - val_loss: 0.4042 - val_accuracy: 0.8874 - lr: 1.0000e-04\n",
      "Epoch 53/100\n",
      "89/89 [==============================] - 0s 6ms/step - loss: 0.3079 - accuracy: 0.8943 - val_loss: 0.4023 - val_accuracy: 0.8874 - lr: 1.0000e-04\n",
      "Epoch 54/100\n",
      "89/89 [==============================] - 1s 7ms/step - loss: 0.3075 - accuracy: 0.8938 - val_loss: 0.4013 - val_accuracy: 0.8874 - lr: 1.0000e-04\n",
      "Epoch 55/100\n",
      "89/89 [==============================] - 1s 7ms/step - loss: 0.3075 - accuracy: 0.8936 - val_loss: 0.4033 - val_accuracy: 0.8874 - lr: 1.0000e-04\n",
      "Epoch 56/100\n",
      "89/89 [==============================] - 1s 6ms/step - loss: 0.3073 - accuracy: 0.8942 - val_loss: 0.4023 - val_accuracy: 0.8874 - lr: 1.0000e-04\n",
      "Epoch 57/100\n",
      "89/89 [==============================] - 1s 7ms/step - loss: 0.3070 - accuracy: 0.8943 - val_loss: 0.4013 - val_accuracy: 0.8874 - lr: 1.0000e-04\n",
      "Epoch 58/100\n",
      "89/89 [==============================] - 1s 6ms/step - loss: 0.3067 - accuracy: 0.8924 - val_loss: 0.4015 - val_accuracy: 0.8874 - lr: 1.0000e-04\n",
      "Epoch 59/100\n",
      "89/89 [==============================] - 1s 7ms/step - loss: 0.3065 - accuracy: 0.8947 - val_loss: 0.3998 - val_accuracy: 0.8874 - lr: 1.0000e-04\n",
      "Epoch 60/100\n",
      "89/89 [==============================] - 1s 9ms/step - loss: 0.3064 - accuracy: 0.8931 - val_loss: 0.3993 - val_accuracy: 0.8874 - lr: 1.0000e-04\n",
      "Epoch 61/100\n",
      "89/89 [==============================] - 1s 7ms/step - loss: 0.3063 - accuracy: 0.8933 - val_loss: 0.4002 - val_accuracy: 0.8874 - lr: 1.0000e-04\n",
      "Epoch 62/100\n",
      "89/89 [==============================] - 1s 6ms/step - loss: 0.3060 - accuracy: 0.8938 - val_loss: 0.4002 - val_accuracy: 0.8874 - lr: 1.0000e-04\n",
      "Epoch 63/100\n",
      "89/89 [==============================] - 1s 8ms/step - loss: 0.3054 - accuracy: 0.8940 - val_loss: 0.3997 - val_accuracy: 0.8874 - lr: 1.0000e-04\n",
      "Epoch 64/100\n",
      "89/89 [==============================] - 1s 8ms/step - loss: 0.3054 - accuracy: 0.8940 - val_loss: 0.4002 - val_accuracy: 0.8874 - lr: 1.0000e-04\n",
      "Epoch 65/100\n",
      "89/89 [==============================] - 1s 12ms/step - loss: 0.3051 - accuracy: 0.8938 - val_loss: 0.3996 - val_accuracy: 0.8874 - lr: 1.0000e-04\n",
      "Epoch 66/100\n",
      "89/89 [==============================] - 1s 10ms/step - loss: 0.3048 - accuracy: 0.8947 - val_loss: 0.3986 - val_accuracy: 0.8874 - lr: 1.0000e-04\n",
      "Epoch 67/100\n",
      "89/89 [==============================] - 1s 6ms/step - loss: 0.3049 - accuracy: 0.8931 - val_loss: 0.3981 - val_accuracy: 0.8874 - lr: 1.0000e-04\n",
      "Epoch 68/100\n",
      "89/89 [==============================] - 0s 6ms/step - loss: 0.3041 - accuracy: 0.8947 - val_loss: 0.3993 - val_accuracy: 0.8874 - lr: 1.0000e-04\n",
      "Epoch 69/100\n",
      "89/89 [==============================] - 1s 9ms/step - loss: 0.3043 - accuracy: 0.8922 - val_loss: 0.3978 - val_accuracy: 0.8874 - lr: 1.0000e-04\n",
      "Epoch 70/100\n",
      "89/89 [==============================] - 1s 7ms/step - loss: 0.3040 - accuracy: 0.8933 - val_loss: 0.3968 - val_accuracy: 0.8874 - lr: 1.0000e-04\n",
      "Epoch 71/100\n",
      "89/89 [==============================] - 0s 5ms/step - loss: 0.3037 - accuracy: 0.8928 - val_loss: 0.3969 - val_accuracy: 0.8874 - lr: 1.0000e-04\n",
      "Epoch 72/100\n",
      "89/89 [==============================] - 1s 6ms/step - loss: 0.3037 - accuracy: 0.8931 - val_loss: 0.3979 - val_accuracy: 0.8874 - lr: 1.0000e-04\n",
      "Epoch 73/100\n",
      "89/89 [==============================] - 1s 9ms/step - loss: 0.3033 - accuracy: 0.8936 - val_loss: 0.3983 - val_accuracy: 0.8874 - lr: 1.0000e-04\n",
      "Epoch 74/100\n",
      "89/89 [==============================] - 1s 6ms/step - loss: 0.3029 - accuracy: 0.8935 - val_loss: 0.3944 - val_accuracy: 0.8874 - lr: 1.0000e-04\n",
      "Epoch 75/100\n",
      "89/89 [==============================] - 1s 8ms/step - loss: 0.3028 - accuracy: 0.8929 - val_loss: 0.3965 - val_accuracy: 0.8874 - lr: 1.0000e-04\n",
      "Epoch 76/100\n",
      "89/89 [==============================] - 1s 7ms/step - loss: 0.3026 - accuracy: 0.8940 - val_loss: 0.3960 - val_accuracy: 0.8874 - lr: 1.0000e-04\n",
      "Epoch 77/100\n",
      "89/89 [==============================] - 1s 8ms/step - loss: 0.3023 - accuracy: 0.8929 - val_loss: 0.3950 - val_accuracy: 0.8874 - lr: 1.0000e-04\n",
      "Epoch 78/100\n",
      "89/89 [==============================] - 1s 9ms/step - loss: 0.3023 - accuracy: 0.8928 - val_loss: 0.3972 - val_accuracy: 0.8874 - lr: 1.0000e-04\n",
      "Epoch 79/100\n",
      "89/89 [==============================] - 1s 7ms/step - loss: 0.3020 - accuracy: 0.8933 - val_loss: 0.3961 - val_accuracy: 0.8874 - lr: 1.0000e-04\n",
      "Epoch 80/100\n",
      "89/89 [==============================] - 1s 7ms/step - loss: 0.3017 - accuracy: 0.8935 - val_loss: 0.3967 - val_accuracy: 0.8874 - lr: 1.0000e-04\n",
      "Epoch 81/100\n",
      "89/89 [==============================] - 1s 8ms/step - loss: 0.3000 - accuracy: 0.8940 - val_loss: 0.3967 - val_accuracy: 0.8874 - lr: 1.0000e-05\n",
      "Epoch 82/100\n",
      "89/89 [==============================] - 1s 10ms/step - loss: 0.2999 - accuracy: 0.8943 - val_loss: 0.3966 - val_accuracy: 0.8874 - lr: 1.0000e-05\n",
      "Epoch 83/100\n",
      "89/89 [==============================] - 1s 10ms/step - loss: 0.2999 - accuracy: 0.8945 - val_loss: 0.3968 - val_accuracy: 0.8874 - lr: 1.0000e-05\n",
      "Epoch 84/100\n",
      "89/89 [==============================] - 1s 6ms/step - loss: 0.2999 - accuracy: 0.8942 - val_loss: 0.3967 - val_accuracy: 0.8874 - lr: 1.0000e-05\n",
      "Epoch 85/100\n",
      "89/89 [==============================] - 1s 8ms/step - loss: 0.2999 - accuracy: 0.8942 - val_loss: 0.3965 - val_accuracy: 0.8874 - lr: 1.0000e-05\n",
      "Epoch 86/100\n",
      "89/89 [==============================] - 1s 9ms/step - loss: 0.2998 - accuracy: 0.8942 - val_loss: 0.3966 - val_accuracy: 0.8874 - lr: 1.0000e-05\n",
      "Epoch 87/100\n",
      "89/89 [==============================] - 1s 8ms/step - loss: 0.2998 - accuracy: 0.8945 - val_loss: 0.3968 - val_accuracy: 0.8874 - lr: 1.0000e-05\n",
      "Epoch 88/100\n",
      "89/89 [==============================] - 1s 5ms/step - loss: 0.2998 - accuracy: 0.8943 - val_loss: 0.3967 - val_accuracy: 0.8874 - lr: 1.0000e-05\n",
      "Epoch 89/100\n",
      "89/89 [==============================] - 1s 7ms/step - loss: 0.2998 - accuracy: 0.8945 - val_loss: 0.3967 - val_accuracy: 0.8874 - lr: 1.0000e-05\n",
      "Epoch 90/100\n",
      "89/89 [==============================] - 1s 7ms/step - loss: 0.2997 - accuracy: 0.8943 - val_loss: 0.3967 - val_accuracy: 0.8874 - lr: 1.0000e-05\n",
      "Epoch 91/100\n",
      "89/89 [==============================] - 1s 6ms/step - loss: 0.2997 - accuracy: 0.8943 - val_loss: 0.3966 - val_accuracy: 0.8874 - lr: 1.0000e-05\n",
      "Epoch 92/100\n",
      "89/89 [==============================] - 1s 8ms/step - loss: 0.2997 - accuracy: 0.8943 - val_loss: 0.3964 - val_accuracy: 0.8874 - lr: 1.0000e-05\n",
      "Epoch 93/100\n",
      "89/89 [==============================] - 1s 6ms/step - loss: 0.2997 - accuracy: 0.8942 - val_loss: 0.3966 - val_accuracy: 0.8874 - lr: 1.0000e-05\n",
      "Epoch 94/100\n",
      "89/89 [==============================] - 1s 8ms/step - loss: 0.2997 - accuracy: 0.8942 - val_loss: 0.3965 - val_accuracy: 0.8874 - lr: 1.0000e-05\n",
      "Epoch 95/100\n",
      "89/89 [==============================] - 1s 9ms/step - loss: 0.2997 - accuracy: 0.8945 - val_loss: 0.3963 - val_accuracy: 0.8874 - lr: 1.0000e-05\n",
      "Epoch 96/100\n",
      "89/89 [==============================] - 1s 7ms/step - loss: 0.2996 - accuracy: 0.8938 - val_loss: 0.3963 - val_accuracy: 0.8874 - lr: 1.0000e-05\n",
      "Epoch 97/100\n",
      "89/89 [==============================] - 1s 9ms/step - loss: 0.2996 - accuracy: 0.8938 - val_loss: 0.3962 - val_accuracy: 0.8874 - lr: 1.0000e-05\n",
      "Epoch 98/100\n",
      "89/89 [==============================] - 1s 7ms/step - loss: 0.2996 - accuracy: 0.8942 - val_loss: 0.3963 - val_accuracy: 0.8874 - lr: 1.0000e-05\n",
      "Epoch 99/100\n",
      "89/89 [==============================] - 1s 9ms/step - loss: 0.2996 - accuracy: 0.8943 - val_loss: 0.3965 - val_accuracy: 0.8874 - lr: 1.0000e-05\n",
      "Epoch 100/100\n",
      "89/89 [==============================] - 1s 8ms/step - loss: 0.2995 - accuracy: 0.8942 - val_loss: 0.3963 - val_accuracy: 0.8874 - lr: 1.0000e-05\n"
     ]
    },
    {
     "data": {
      "text/plain": [
       "<keras.callbacks.History at 0x7fae58bf15a0>"
      ]
     },
     "execution_count": 4,
     "metadata": {},
     "output_type": "execute_result"
    }
   ],
   "source": [
    "model = ModelBuilder.build_classifier(cfg.MODEL, '', num_classes=2)\n",
    "optimizer = OptimizerBuilder.build_optimizer(cfg.TRAIN.OPTIM)\n",
    "loss = tf.keras.losses.BinaryCrossentropy()\n",
    "\n",
    "lr_scheduler = LRScheduleBuilder.build_scheduler(cfg.TRAIN.LR)\n",
    "lr_callback = tf.keras.callbacks.LearningRateScheduler(lr_scheduler)\n",
    "\n",
    "early_stop_callback = tf.keras.callbacks.EarlyStopping(monitor='loss', patience=cfg.TRAIN.LEN.early_stop)\n",
    "\n",
    "model.compile(optimizer=optimizer, loss=loss, metrics=['accuracy'])\n",
    "history = model.fit(train_X, train_y, validation_data=(val_X, val_y), \n",
    "                    epochs=cfg.TRAIN.LEN.num_epoch, \n",
    "                    batch_size=cfg.TRAIN.DATA.batch_size, \n",
    "                    initial_epoch=cfg.TRAIN.LEN.start_epoch,\n",
    "                    workers=cfg.TRAIN.DATA.num_workers,\n",
    "                    callbacks=[lr_callback, \n",
    "                               early_stop_callback])"
   ]
  },
  {
   "cell_type": "code",
   "execution_count": null,
   "metadata": {},
   "outputs": [],
   "source": []
  }
 ],
 "metadata": {
  "kernelspec": {
   "display_name": "pdiot",
   "language": "python",
   "name": "python3"
  },
  "language_info": {
   "codemirror_mode": {
    "name": "ipython",
    "version": 3
   },
   "file_extension": ".py",
   "mimetype": "text/x-python",
   "name": "python",
   "nbconvert_exporter": "python",
   "pygments_lexer": "ipython3",
   "version": "3.10.13"
  }
 },
 "nbformat": 4,
 "nbformat_minor": 2
}
